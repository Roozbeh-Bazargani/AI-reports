{
 "cells": [
  {
   "cell_type": "markdown",
   "metadata": {
    "collapsed": true
   },
   "source": [
    "# Importing libraries"
   ]
  },
  {
   "cell_type": "code",
   "execution_count": 24,
   "metadata": {},
   "outputs": [],
   "source": [
    "import tensorflow as tf\n",
    "from tensorflow.keras import datasets, layers, models, optimizers, callbacks\n",
    "import matplotlib.pyplot as plt\n",
    "import numpy as np\n",
    "from sklearn.metrics import confusion_matrix, classification_report"
   ]
  },
  {
   "cell_type": "markdown",
   "metadata": {},
   "source": [
    "# Dataset"
   ]
  },
  {
   "cell_type": "code",
   "execution_count": 2,
   "metadata": {},
   "outputs": [],
   "source": [
    "(X_train, Y_train), (X_test, Y_test) = datasets.cifar10.load_data()"
   ]
  },
  {
   "cell_type": "code",
   "execution_count": 3,
   "metadata": {},
   "outputs": [
    {
     "data": {
      "text/plain": [
       "(32, 32, 3)"
      ]
     },
     "execution_count": 3,
     "metadata": {},
     "output_type": "execute_result"
    }
   ],
   "source": [
    "X_test.shape[1:]"
   ]
  },
  {
   "cell_type": "code",
   "execution_count": 4,
   "metadata": {},
   "outputs": [],
   "source": [
    "classes = ['airplane', 'automobile', 'bird', 'cat', 'deer', 'dog', 'frog', 'horse', 'ship', 'truck']"
   ]
  },
  {
   "cell_type": "code",
   "execution_count": 5,
   "metadata": {},
   "outputs": [],
   "source": [
    "def plot_sample(X, Y, index):\n",
    "    plt.figure(figsize = (15,2))\n",
    "    plt.imshow(X[index])\n",
    "    plt.xlabel(classes[Y[index][0]])"
   ]
  },
  {
   "cell_type": "code",
   "execution_count": 6,
   "metadata": {},
   "outputs": [
    {
     "data": {
      "image/png": "[encoded data removed]",
      "text/plain": [
       "<Figure size 1080x144 with 1 Axes>"
      ]
     },
     "metadata": {
      "needs_background": "light"
     },
     "output_type": "display_data"
    }
   ],
   "source": [
    "plot_sample(X_train, Y_train, 0)"
   ]
  },
  {
   "cell_type": "code",
   "execution_count": 7,
   "metadata": {},
   "outputs": [
    {
     "data": {
      "image/png": "[encoded data removed]",
      "text/plain": [
       "<Figure size 1080x144 with 1 Axes>"
      ]
     },
     "metadata": {
      "needs_background": "light"
     },
     "output_type": "display_data"
    }
   ],
   "source": [
    "plot_sample(X_train, Y_train, 2)"
   ]
  },
  {
   "cell_type": "markdown",
   "metadata": {},
   "source": [
    "# Preprocessing"
   ]
  },
  {
   "cell_type": "code",
   "execution_count": 8,
   "metadata": {},
   "outputs": [],
   "source": [
    "X_train = X_train / 255\n",
    "X_test = X_test / 255"
   ]
  },
  {
   "cell_type": "markdown",
   "metadata": {},
   "source": [
    "# 1. CNN with SGD"
   ]
  },
  {
   "cell_type": "code",
   "execution_count": 42,
   "metadata": {},
   "outputs": [
    {
     "name": "stdout",
     "output_type": "stream",
     "text": [
      "Model: \"sequential_15\"\n",
      "_________________________________________________________________\n",
      "Layer (type)                 Output Shape              Param #   \n",
      "=================================================================\n",
      "conv2d_75 (Conv2D)           (None, 32, 32, 32)        896       \n",
      "_________________________________________________________________\n",
      "conv2d_76 (Conv2D)           (None, 32, 32, 32)        9248      \n",
      "_________________________________________________________________\n",
      "max_pooling2d_45 (MaxPooling (None, 16, 16, 32)        0         \n",
      "_________________________________________________________________\n",
      "dropout_60 (Dropout)         (None, 16, 16, 32)        0         \n",
      "_________________________________________________________________\n",
      "conv2d_77 (Conv2D)           (None, 16, 16, 64)        18496     \n",
      "_________________________________________________________________\n",
      "max_pooling2d_46 (MaxPooling (None, 8, 8, 64)          0         \n",
      "_________________________________________________________________\n",
      "dropout_61 (Dropout)         (None, 8, 8, 64)          0         \n",
      "_________________________________________________________________\n",
      "conv2d_78 (Conv2D)           (None, 8, 8, 128)         73856     \n",
      "_________________________________________________________________\n",
      "conv2d_79 (Conv2D)           (None, 8, 8, 128)         147584    \n",
      "_________________________________________________________________\n",
      "max_pooling2d_47 (MaxPooling (None, 4, 4, 128)         0         \n",
      "_________________________________________________________________\n",
      "dropout_62 (Dropout)         (None, 4, 4, 128)         0         \n",
      "_________________________________________________________________\n",
      "flatten_15 (Flatten)         (None, 2048)              0         \n",
      "_________________________________________________________________\n",
      "dense_30 (Dense)             (None, 128)               262272    \n",
      "_________________________________________________________________\n",
      "dropout_63 (Dropout)         (None, 128)               0         \n",
      "_________________________________________________________________\n",
      "dense_31 (Dense)             (None, 10)                1290      \n",
      "=================================================================\n",
      "Total params: 513,642\n",
      "Trainable params: 513,642\n",
      "Non-trainable params: 0\n",
      "_________________________________________________________________\n"
     ]
    }
   ],
   "source": [
    "sgd = models.Sequential([\n",
    "    # cnn\n",
    "    layers.Conv2D(filters=32, kernel_size=(3,3), activation='relu', kernel_initializer='he_uniform', \n",
    "                  padding='same', input_shape=(X_train.shape[1:])),\n",
    "    layers.Conv2D(filters=32, kernel_size=(3,3), activation='relu', kernel_initializer='he_uniform', padding='same'),\n",
    "    layers.MaxPooling2D((2,2)),\n",
    "    layers.Dropout(0.2),\n",
    "    layers.Conv2D(filters=64, kernel_size=(3,3), activation='relu', kernel_initializer='he_uniform', padding='same'),\n",
    "    layers.MaxPooling2D((2,2)),\n",
    "    layers.Dropout(0.3),\n",
    "    layers.Conv2D(filters=128, kernel_size=(3,3), activation='relu', kernel_initializer='he_uniform', padding='same'),\n",
    "    layers.Conv2D(filters=128, kernel_size=(3,3), activation='relu', kernel_initializer='he_uniform', padding='same'),\n",
    "    layers.MaxPooling2D((2,2)),\n",
    "    layers.Dropout(0.4),\n",
    "    \n",
    "    # dense\n",
    "    layers.Flatten(),\n",
    "    layers.Dense(128, activation='relu', kernel_initializer='he_uniform'),\n",
    "    layers.Dropout(0.5),\n",
    "    layers.Dense(len(classes), activation='softmax'),\n",
    "])\n",
    "\n",
    "opt = optimizers.SGD(lr=0.001, momentum=0.9)\n",
    "sgd.compile(optimizer=opt,\n",
    "            loss='sparse_categorical_crossentropy',\n",
    "            metrics=['accuracy'])\n",
    "\n",
    "filepath_sgd = \"models/sgd-model-{epoch:03d}-{val_acc:.2f}.h5\"\n",
    "sgd_checkpoint_callback = callbacks.ModelCheckpoint(\n",
    "    filepath=filepath_sgd,\n",
    "    save_weights_only=False,\n",
    "    monitor='val_acc',\n",
    "    mode='auto',\n",
    "    save_freq='epoch',\n",
    "    save_best_only=True)\n",
    "\n",
    "sgd.summary()"
   ]
  },
  {
   "cell_type": "code",
   "execution_count": 46,
   "metadata": {},
   "outputs": [
    {
     "name": "stdout",
     "output_type": "stream",
     "text": [
      "Train on 45000 samples, validate on 5000 samples\n",
      "Epoch 1/50\n",
      "45000/45000 [==============================] - 95s 2ms/sample - loss: 2.2406 - acc: 0.1537 - val_loss: 2.1214 - val_acc: 0.2718\n",
      "Epoch 2/50\n",
      "45000/45000 [==============================] - 95s 2ms/sample - loss: 2.0028 - acc: 0.2468 - val_loss: 1.8708 - val_acc: 0.3150\n",
      "Epoch 3/50\n",
      "45000/45000 [==============================] - 100s 2ms/sample - loss: 1.8403 - acc: 0.3090 - val_loss: 1.7207 - val_acc: 0.3610\n",
      "Epoch 4/50\n",
      "45000/45000 [==============================] - 101s 2ms/sample - loss: 1.7340 - acc: 0.3482 - val_loss: 1.6617 - val_acc: 0.3958\n",
      "Epoch 5/50\n",
      "45000/45000 [==============================] - 99s 2ms/sample - loss: 1.6530 - acc: 0.3824 - val_loss: 1.6443 - val_acc: 0.4128\n",
      "Epoch 6/50\n",
      "45000/45000 [==============================] - 100s 2ms/sample - loss: 1.5907 - acc: 0.4100 - val_loss: 1.4801 - val_acc: 0.4738\n",
      "Epoch 7/50\n",
      "45000/45000 [==============================] - 99s 2ms/sample - loss: 1.5376 - acc: 0.4311 - val_loss: 1.4092 - val_acc: 0.4884\n",
      "Epoch 8/50\n",
      "45000/45000 [==============================] - 96s 2ms/sample - loss: 1.4903 - acc: 0.4522 - val_loss: 1.3396 - val_acc: 0.5238\n",
      "Epoch 9/50\n",
      "45000/45000 [==============================] - 98s 2ms/sample - loss: 1.4438 - acc: 0.4693 - val_loss: 1.3109 - val_acc: 0.5280\n",
      "Epoch 10/50\n",
      "45000/45000 [==============================] - 96s 2ms/sample - loss: 1.4061 - acc: 0.4861 - val_loss: 1.2460 - val_acc: 0.5558\n",
      "Epoch 11/50\n",
      "45000/45000 [==============================] - 95s 2ms/sample - loss: 1.3702 - acc: 0.5003 - val_loss: 1.2288 - val_acc: 0.5652\n",
      "Epoch 12/50\n",
      "45000/45000 [==============================] - 95s 2ms/sample - loss: 1.3422 - acc: 0.5130 - val_loss: 1.2658 - val_acc: 0.5534\n",
      "Epoch 13/50\n",
      "45000/45000 [==============================] - 95s 2ms/sample - loss: 1.3115 - acc: 0.5234 - val_loss: 1.2222 - val_acc: 0.5628\n",
      "Epoch 14/50\n",
      "45000/45000 [==============================] - 96s 2ms/sample - loss: 1.2860 - acc: 0.5344 - val_loss: 1.1476 - val_acc: 0.5902\n",
      "Epoch 15/50\n",
      "45000/45000 [==============================] - 96s 2ms/sample - loss: 1.2603 - acc: 0.5450 - val_loss: 1.0937 - val_acc: 0.6094\n",
      "Epoch 16/50\n",
      "45000/45000 [==============================] - 94s 2ms/sample - loss: 1.2366 - acc: 0.5529 - val_loss: 1.0823 - val_acc: 0.6188\n",
      "Epoch 17/50\n",
      "45000/45000 [==============================] - 92s 2ms/sample - loss: 1.2111 - acc: 0.5674 - val_loss: 1.0712 - val_acc: 0.6202\n",
      "Epoch 18/50\n",
      "45000/45000 [==============================] - 91s 2ms/sample - loss: 1.1887 - acc: 0.5722 - val_loss: 1.0218 - val_acc: 0.6430\n",
      "Epoch 19/50\n",
      "45000/45000 [==============================] - 92s 2ms/sample - loss: 1.1681 - acc: 0.5802 - val_loss: 0.9978 - val_acc: 0.6484\n",
      "Epoch 20/50\n",
      "45000/45000 [==============================] - 92s 2ms/sample - loss: 1.1479 - acc: 0.5870 - val_loss: 0.9977 - val_acc: 0.6456\n",
      "Epoch 21/50\n",
      "45000/45000 [==============================] - 91s 2ms/sample - loss: 1.1243 - acc: 0.5992 - val_loss: 0.9634 - val_acc: 0.6660\n",
      "Epoch 22/50\n",
      "45000/45000 [==============================] - 92s 2ms/sample - loss: 1.1082 - acc: 0.6058 - val_loss: 0.9598 - val_acc: 0.6652\n",
      "Epoch 23/50\n",
      "45000/45000 [==============================] - 94s 2ms/sample - loss: 1.0953 - acc: 0.6093 - val_loss: 0.9532 - val_acc: 0.6638\n",
      "Epoch 24/50\n",
      "45000/45000 [==============================] - 97s 2ms/sample - loss: 1.0756 - acc: 0.6173 - val_loss: 0.9096 - val_acc: 0.6812\n",
      "Epoch 25/50\n",
      "45000/45000 [==============================] - 98s 2ms/sample - loss: 1.0647 - acc: 0.6212 - val_loss: 0.9356 - val_acc: 0.6716\n",
      "Epoch 26/50\n",
      "45000/45000 [==============================] - 98s 2ms/sample - loss: 1.0465 - acc: 0.6294 - val_loss: 0.8969 - val_acc: 0.6804\n",
      "Epoch 27/50\n",
      "45000/45000 [==============================] - 98s 2ms/sample - loss: 1.0383 - acc: 0.6278 - val_loss: 0.9043 - val_acc: 0.6814\n",
      "Epoch 28/50\n",
      "45000/45000 [==============================] - 99s 2ms/sample - loss: 1.0176 - acc: 0.6389 - val_loss: 0.9015 - val_acc: 0.6858\n",
      "Epoch 29/50\n",
      "45000/45000 [==============================] - 98s 2ms/sample - loss: 1.0021 - acc: 0.6408 - val_loss: 0.8551 - val_acc: 0.7008\n",
      "Epoch 30/50\n",
      "45000/45000 [==============================] - 97s 2ms/sample - loss: 0.9918 - acc: 0.6488 - val_loss: 0.8226 - val_acc: 0.7176\n",
      "Epoch 31/50\n",
      "45000/45000 [==============================] - 98s 2ms/sample - loss: 0.9750 - acc: 0.6564 - val_loss: 0.8247 - val_acc: 0.7140\n",
      "Epoch 32/50\n",
      "45000/45000 [==============================] - 98s 2ms/sample - loss: 0.9658 - acc: 0.6585 - val_loss: 0.8171 - val_acc: 0.7180\n",
      "Epoch 33/50\n",
      "45000/45000 [==============================] - 93s 2ms/sample - loss: 0.9561 - acc: 0.6616 - val_loss: 0.8395 - val_acc: 0.7054\n",
      "Epoch 34/50\n",
      "45000/45000 [==============================] - 92s 2ms/sample - loss: 0.9435 - acc: 0.6646 - val_loss: 0.7901 - val_acc: 0.7268\n",
      "Epoch 35/50\n",
      "45000/45000 [==============================] - 91s 2ms/sample - loss: 0.9386 - acc: 0.6667 - val_loss: 0.7930 - val_acc: 0.7254\n",
      "Epoch 36/50\n",
      "45000/45000 [==============================] - 92s 2ms/sample - loss: 0.9300 - acc: 0.6731 - val_loss: 0.7651 - val_acc: 0.7406\n",
      "Epoch 37/50\n",
      "45000/45000 [==============================] - 91s 2ms/sample - loss: 0.9166 - acc: 0.6774 - val_loss: 0.8353 - val_acc: 0.7078\n",
      "Epoch 38/50\n",
      "45000/45000 [==============================] - 92s 2ms/sample - loss: 0.9072 - acc: 0.6785 - val_loss: 0.7622 - val_acc: 0.7338\n",
      "Epoch 39/50\n",
      "45000/45000 [==============================] - 91s 2ms/sample - loss: 0.8975 - acc: 0.6836 - val_loss: 0.7649 - val_acc: 0.7316\n",
      "Epoch 40/50\n",
      "45000/45000 [==============================] - 93s 2ms/sample - loss: 0.8878 - acc: 0.6863 - val_loss: 0.7333 - val_acc: 0.7462\n",
      "Epoch 41/50\n",
      "45000/45000 [==============================] - 92s 2ms/sample - loss: 0.8814 - acc: 0.6908 - val_loss: 0.7435 - val_acc: 0.7440\n",
      "Epoch 42/50\n",
      "45000/45000 [==============================] - 92s 2ms/sample - loss: 0.8667 - acc: 0.6945 - val_loss: 0.7869 - val_acc: 0.7236\n",
      "Epoch 43/50\n",
      "45000/45000 [==============================] - 92s 2ms/sample - loss: 0.8640 - acc: 0.6951 - val_loss: 0.7075 - val_acc: 0.7526\n",
      "Epoch 44/50\n",
      "45000/45000 [==============================] - 92s 2ms/sample - loss: 0.8494 - acc: 0.7006 - val_loss: 0.7096 - val_acc: 0.7522\n",
      "Epoch 45/50\n",
      "45000/45000 [==============================] - 92s 2ms/sample - loss: 0.8507 - acc: 0.7009 - val_loss: 0.7766 - val_acc: 0.7282\n",
      "Epoch 46/50\n",
      "45000/45000 [==============================] - 91s 2ms/sample - loss: 0.8384 - acc: 0.7075 - val_loss: 0.6950 - val_acc: 0.7578\n",
      "Epoch 47/50\n",
      "45000/45000 [==============================] - 92s 2ms/sample - loss: 0.8308 - acc: 0.7094 - val_loss: 0.7284 - val_acc: 0.7450\n",
      "Epoch 48/50\n",
      "45000/45000 [==============================] - 92s 2ms/sample - loss: 0.8198 - acc: 0.7119 - val_loss: 0.7172 - val_acc: 0.7490\n",
      "Epoch 49/50\n",
      "45000/45000 [==============================] - 92s 2ms/sample - loss: 0.8160 - acc: 0.7146 - val_loss: 0.6741 - val_acc: 0.7666\n",
      "Epoch 50/50\n",
      "45000/45000 [==============================] - 92s 2ms/sample - loss: 0.8106 - acc: 0.7162 - val_loss: 0.7196 - val_acc: 0.7518\n"
     ]
    }
   ],
   "source": [
    "sgd_history = sgd.fit(X_train, Y_train, epochs=50, callbacks=[sgd_checkpoint_callback], batch_size=64, validation_split=0.1)"
   ]
  },
  {
   "cell_type": "code",
   "execution_count": 49,
   "metadata": {},
   "outputs": [
    {
     "name": "stdout",
     "output_type": "stream",
     "text": [
      "Train on 45000 samples, validate on 5000 samples\n",
      "Epoch 1/50\n",
      "45000/45000 [==============================] - 95s 2ms/sample - loss: 0.8104 - acc: 0.7150 - val_loss: 0.6908 - val_acc: 0.7570\n",
      "Epoch 2/50\n",
      "45000/45000 [==============================] - 95s 2ms/sample - loss: 0.8010 - acc: 0.7169 - val_loss: 0.6681 - val_acc: 0.7638\n",
      "Epoch 3/50\n",
      "45000/45000 [==============================] - 96s 2ms/sample - loss: 0.7920 - acc: 0.7225 - val_loss: 0.6617 - val_acc: 0.7712\n",
      "Epoch 4/50\n",
      "45000/45000 [==============================] - 96s 2ms/sample - loss: 0.7861 - acc: 0.7241 - val_loss: 0.6624 - val_acc: 0.7682\n",
      "Epoch 5/50\n",
      "45000/45000 [==============================] - 96s 2ms/sample - loss: 0.7806 - acc: 0.7271 - val_loss: 0.6902 - val_acc: 0.7582\n",
      "Epoch 6/50\n",
      "45000/45000 [==============================] - 96s 2ms/sample - loss: 0.7793 - acc: 0.7283 - val_loss: 0.6472 - val_acc: 0.7702\n",
      "Epoch 7/50\n",
      "45000/45000 [==============================] - 96s 2ms/sample - loss: 0.7712 - acc: 0.7294 - val_loss: 0.7035 - val_acc: 0.7586\n",
      "Epoch 8/50\n",
      "45000/45000 [==============================] - 96s 2ms/sample - loss: 0.7640 - acc: 0.7319 - val_loss: 0.6400 - val_acc: 0.7782\n",
      "Epoch 9/50\n",
      "45000/45000 [==============================] - 99s 2ms/sample - loss: 0.7545 - acc: 0.7344 - val_loss: 0.6788 - val_acc: 0.7658\n",
      "Epoch 10/50\n",
      "45000/45000 [==============================] - 98s 2ms/sample - loss: 0.7544 - acc: 0.7356 - val_loss: 0.6311 - val_acc: 0.7762\n",
      "Epoch 11/50\n",
      "45000/45000 [==============================] - 100s 2ms/sample - loss: 0.7439 - acc: 0.7391 - val_loss: 0.6649 - val_acc: 0.7700\n",
      "Epoch 12/50\n",
      "45000/45000 [==============================] - 100s 2ms/sample - loss: 0.7415 - acc: 0.7394 - val_loss: 0.6530 - val_acc: 0.7734\n",
      "Epoch 13/50\n",
      "45000/45000 [==============================] - 101s 2ms/sample - loss: 0.7339 - acc: 0.7434 - val_loss: 0.6398 - val_acc: 0.7788\n",
      "Epoch 14/50\n",
      "45000/45000 [==============================] - 101s 2ms/sample - loss: 0.7340 - acc: 0.7432 - val_loss: 0.6308 - val_acc: 0.7756\n",
      "Epoch 15/50\n",
      "45000/45000 [==============================] - 95s 2ms/sample - loss: 0.7273 - acc: 0.7457 - val_loss: 0.6741 - val_acc: 0.7678\n",
      "Epoch 16/50\n",
      "45000/45000 [==============================] - 99s 2ms/sample - loss: 0.7257 - acc: 0.7453 - val_loss: 0.6282 - val_acc: 0.7840\n",
      "Epoch 17/50\n",
      "45000/45000 [==============================] - 147s 3ms/sample - loss: 0.7170 - acc: 0.7494 - val_loss: 0.6156 - val_acc: 0.7834\n",
      "Epoch 18/50\n",
      "45000/45000 [==============================] - 97s 2ms/sample - loss: 0.7112 - acc: 0.7492 - val_loss: 0.6041 - val_acc: 0.7894\n",
      "Epoch 19/50\n",
      "45000/45000 [==============================] - 97s 2ms/sample - loss: 0.7074 - acc: 0.7520 - val_loss: 0.5992 - val_acc: 0.7884\n",
      "Epoch 20/50\n",
      "45000/45000 [==============================] - 98s 2ms/sample - loss: 0.6996 - acc: 0.7528 - val_loss: 0.6091 - val_acc: 0.7882\n",
      "Epoch 21/50\n",
      "45000/45000 [==============================] - 98s 2ms/sample - loss: 0.6995 - acc: 0.7555 - val_loss: 0.6022 - val_acc: 0.7888\n",
      "Epoch 22/50\n",
      "45000/45000 [==============================] - 97s 2ms/sample - loss: 0.6995 - acc: 0.7532 - val_loss: 0.6106 - val_acc: 0.7868\n",
      "Epoch 23/50\n",
      "45000/45000 [==============================] - 98s 2ms/sample - loss: 0.6924 - acc: 0.7572 - val_loss: 0.5993 - val_acc: 0.7904\n",
      "Epoch 24/50\n",
      "45000/45000 [==============================] - 97s 2ms/sample - loss: 0.6931 - acc: 0.7572 - val_loss: 0.5786 - val_acc: 0.7968\n",
      "Epoch 25/50\n",
      "45000/45000 [==============================] - 97s 2ms/sample - loss: 0.6751 - acc: 0.7645 - val_loss: 0.5928 - val_acc: 0.7902\n",
      "Epoch 26/50\n",
      "45000/45000 [==============================] - 96s 2ms/sample - loss: 0.6796 - acc: 0.7624 - val_loss: 0.6189 - val_acc: 0.7834\n",
      "Epoch 27/50\n",
      "45000/45000 [==============================] - 92s 2ms/sample - loss: 0.6718 - acc: 0.7649 - val_loss: 0.5960 - val_acc: 0.7908\n",
      "Epoch 28/50\n",
      "45000/45000 [==============================] - 93s 2ms/sample - loss: 0.6670 - acc: 0.7662 - val_loss: 0.5743 - val_acc: 0.7952\n",
      "Epoch 29/50\n",
      "45000/45000 [==============================] - 92s 2ms/sample - loss: 0.6653 - acc: 0.7678 - val_loss: 0.6102 - val_acc: 0.7860\n",
      "Epoch 30/50\n",
      "45000/45000 [==============================] - 92s 2ms/sample - loss: 0.6608 - acc: 0.7696 - val_loss: 0.6039 - val_acc: 0.7908\n",
      "Epoch 31/50\n",
      "45000/45000 [==============================] - 93s 2ms/sample - loss: 0.6573 - acc: 0.7697 - val_loss: 0.5849 - val_acc: 0.7944\n",
      "Epoch 32/50\n",
      "45000/45000 [==============================] - 93s 2ms/sample - loss: 0.6545 - acc: 0.7708 - val_loss: 0.5709 - val_acc: 0.8004\n",
      "Epoch 33/50\n",
      "45000/45000 [==============================] - 93s 2ms/sample - loss: 0.6474 - acc: 0.7736 - val_loss: 0.5996 - val_acc: 0.7902\n",
      "Epoch 34/50\n",
      "45000/45000 [==============================] - 93s 2ms/sample - loss: 0.6467 - acc: 0.7739 - val_loss: 0.5656 - val_acc: 0.8014\n",
      "Epoch 35/50\n",
      "45000/45000 [==============================] - 93s 2ms/sample - loss: 0.6386 - acc: 0.7737 - val_loss: 0.5759 - val_acc: 0.7944\n",
      "Epoch 36/50\n",
      "45000/45000 [==============================] - 93s 2ms/sample - loss: 0.6383 - acc: 0.7771 - val_loss: 0.5784 - val_acc: 0.7994\n",
      "Epoch 37/50\n",
      "45000/45000 [==============================] - 93s 2ms/sample - loss: 0.6352 - acc: 0.7746 - val_loss: 0.6066 - val_acc: 0.7890\n",
      "Epoch 38/50\n",
      "45000/45000 [==============================] - 93s 2ms/sample - loss: 0.6341 - acc: 0.7802 - val_loss: 0.5822 - val_acc: 0.7984\n",
      "Epoch 39/50\n",
      "45000/45000 [==============================] - 106s 2ms/sample - loss: 0.6233 - acc: 0.7831 - val_loss: 0.5572 - val_acc: 0.8024\n",
      "Epoch 40/50\n",
      "45000/45000 [==============================] - 105s 2ms/sample - loss: 0.6237 - acc: 0.7822 - val_loss: 0.5456 - val_acc: 0.8082\n",
      "Epoch 41/50\n",
      "45000/45000 [==============================] - 102s 2ms/sample - loss: 0.6241 - acc: 0.7818 - val_loss: 0.5598 - val_acc: 0.8082\n",
      "Epoch 42/50\n",
      "45000/45000 [==============================] - 103s 2ms/sample - loss: 0.6192 - acc: 0.7826 - val_loss: 0.5572 - val_acc: 0.8078\n",
      "Epoch 43/50\n",
      "45000/45000 [==============================] - 101s 2ms/sample - loss: 0.6154 - acc: 0.7866 - val_loss: 0.5388 - val_acc: 0.8110\n",
      "Epoch 44/50\n",
      "45000/45000 [==============================] - 102s 2ms/sample - loss: 0.6093 - acc: 0.7879 - val_loss: 0.5536 - val_acc: 0.8074\n",
      "Epoch 45/50\n",
      "45000/45000 [==============================] - 103s 2ms/sample - loss: 0.6098 - acc: 0.7877 - val_loss: 0.5746 - val_acc: 0.8042\n",
      "Epoch 46/50\n",
      "45000/45000 [==============================] - 103s 2ms/sample - loss: 0.6070 - acc: 0.7878 - val_loss: 0.5469 - val_acc: 0.8098\n",
      "Epoch 47/50\n",
      "45000/45000 [==============================] - 155s 3ms/sample - loss: 0.6046 - acc: 0.7892 - val_loss: 0.5367 - val_acc: 0.8116\n",
      "Epoch 48/50\n",
      "45000/45000 [==============================] - 209s 5ms/sample - loss: 0.5962 - acc: 0.7909 - val_loss: 0.5815 - val_acc: 0.8016\n",
      "Epoch 49/50\n",
      "45000/45000 [==============================] - 199s 4ms/sample - loss: 0.5953 - acc: 0.7912 - val_loss: 0.5658 - val_acc: 0.8030\n",
      "Epoch 50/50\n",
      "45000/45000 [==============================] - 175s 4ms/sample - loss: 0.5895 - acc: 0.7920 - val_loss: 0.5646 - val_acc: 0.8058\n"
     ]
    }
   ],
   "source": [
    "sgd_history = sgd.fit(X_train, Y_train, epochs=50, callbacks=[sgd_checkpoint_callback], batch_size=64, validation_split=0.1)"
   ]
  },
  {
   "cell_type": "code",
   "execution_count": 53,
   "metadata": {},
   "outputs": [],
   "source": [
    "filepath = 'models/sgd_100.h5'\n",
    "sgd.save(filepath)"
   ]
  },
  {
   "cell_type": "code",
   "execution_count": 56,
   "metadata": {},
   "outputs": [
    {
     "name": "stdout",
     "output_type": "stream",
     "text": [
      "Classification report:\n",
      "               precision    recall  f1-score   support\n",
      "\n",
      "           0       0.86      0.78      0.82      1000\n",
      "           1       0.93      0.90      0.91      1000\n",
      "           2       0.70      0.68      0.69      1000\n",
      "           3       0.64      0.63      0.64      1000\n",
      "           4       0.74      0.81      0.77      1000\n",
      "           5       0.80      0.62      0.70      1000\n",
      "           6       0.72      0.93      0.81      1000\n",
      "           7       0.92      0.78      0.84      1000\n",
      "           8       0.85      0.93      0.89      1000\n",
      "           9       0.86      0.90      0.88      1000\n",
      "\n",
      "    accuracy                           0.80     10000\n",
      "   macro avg       0.80      0.80      0.80     10000\n",
      "weighted avg       0.80      0.80      0.80     10000\n",
      "\n"
     ]
    }
   ],
   "source": [
    "Y_pred = sgd.predict(X_test)\n",
    "Y_pred_classes = [np.argmax(element) for element in Y_pred]\n",
    "\n",
    "print('Classification report:\\n', classification_report(Y_test, Y_pred_classes))"
   ]
  },
  {
   "cell_type": "code",
   "execution_count": 58,
   "metadata": {},
   "outputs": [
    {
     "name": "stdout",
     "output_type": "stream",
     "text": [
      "10000/10000 [==============================] - 9s 906us/sample - loss: 0.5961 - acc: 0.7967\n"
     ]
    },
    {
     "data": {
      "text/plain": [
       "[0.5960522455215455, 0.7967]"
      ]
     },
     "execution_count": 58,
     "metadata": {},
     "output_type": "execute_result"
    }
   ],
   "source": [
    "sgd.evaluate(X_test, Y_test)"
   ]
  },
  {
   "cell_type": "markdown",
   "metadata": {},
   "source": [
    "# 2. CNN with RMSprop"
   ]
  },
  {
   "cell_type": "markdown",
   "metadata": {},
   "source": [
    "## 2.1 RMSprop with momentum"
   ]
  },
  {
   "cell_type": "code",
   "execution_count": 59,
   "metadata": {},
   "outputs": [
    {
     "name": "stdout",
     "output_type": "stream",
     "text": [
      "Model: \"sequential_16\"\n",
      "_________________________________________________________________\n",
      "Layer (type)                 Output Shape              Param #   \n",
      "=================================================================\n",
      "conv2d_80 (Conv2D)           (None, 32, 32, 32)        896       \n",
      "_________________________________________________________________\n",
      "conv2d_81 (Conv2D)           (None, 32, 32, 32)        9248      \n",
      "_________________________________________________________________\n",
      "max_pooling2d_48 (MaxPooling (None, 16, 16, 32)        0         \n",
      "_________________________________________________________________\n",
      "dropout_64 (Dropout)         (None, 16, 16, 32)        0         \n",
      "_________________________________________________________________\n",
      "conv2d_82 (Conv2D)           (None, 16, 16, 64)        18496     \n",
      "_________________________________________________________________\n",
      "max_pooling2d_49 (MaxPooling (None, 8, 8, 64)          0         \n",
      "_________________________________________________________________\n",
      "dropout_65 (Dropout)         (None, 8, 8, 64)          0         \n",
      "_________________________________________________________________\n",
      "conv2d_83 (Conv2D)           (None, 8, 8, 128)         73856     \n",
      "_________________________________________________________________\n",
      "conv2d_84 (Conv2D)           (None, 8, 8, 128)         147584    \n",
      "_________________________________________________________________\n",
      "max_pooling2d_50 (MaxPooling (None, 4, 4, 128)         0         \n",
      "_________________________________________________________________\n",
      "dropout_66 (Dropout)         (None, 4, 4, 128)         0         \n",
      "_________________________________________________________________\n",
      "flatten_16 (Flatten)         (None, 2048)              0         \n",
      "_________________________________________________________________\n",
      "dense_32 (Dense)             (None, 128)               262272    \n",
      "_________________________________________________________________\n",
      "dropout_67 (Dropout)         (None, 128)               0         \n",
      "_________________________________________________________________\n",
      "dense_33 (Dense)             (None, 10)                1290      \n",
      "=================================================================\n",
      "Total params: 513,642\n",
      "Trainable params: 513,642\n",
      "Non-trainable params: 0\n",
      "_________________________________________________________________\n"
     ]
    }
   ],
   "source": [
    "rms = models.Sequential([\n",
    "    # cnn\n",
    "    layers.Conv2D(filters=32, kernel_size=(3,3), activation='relu', kernel_initializer='he_uniform', \n",
    "                  padding='same', input_shape=(X_train.shape[1:])),\n",
    "    layers.Conv2D(filters=32, kernel_size=(3,3), activation='relu', kernel_initializer='he_uniform', padding='same'),\n",
    "    layers.MaxPooling2D((2,2)),\n",
    "    layers.Dropout(0.2),\n",
    "    layers.Conv2D(filters=64, kernel_size=(3,3), activation='relu', kernel_initializer='he_uniform', padding='same'),\n",
    "    layers.MaxPooling2D((2,2)),\n",
    "    layers.Dropout(0.3),\n",
    "    layers.Conv2D(filters=128, kernel_size=(3,3), activation='relu', kernel_initializer='he_uniform', padding='same'),\n",
    "    layers.Conv2D(filters=128, kernel_size=(3,3), activation='relu', kernel_initializer='he_uniform', padding='same'),\n",
    "    layers.MaxPooling2D((2,2)),\n",
    "    layers.Dropout(0.4),\n",
    "    \n",
    "    # dense\n",
    "    layers.Flatten(),\n",
    "    layers.Dense(128, activation='relu', kernel_initializer='he_uniform'),\n",
    "    layers.Dropout(0.5),\n",
    "    layers.Dense(len(classes), activation='softmax'),\n",
    "])\n",
    "\n",
    "opt = optimizers.RMSprop(lr=0.001, rho=0.9, momentum=0.9)\n",
    "rms.compile(optimizer=opt,\n",
    "            loss='sparse_categorical_crossentropy',\n",
    "            metrics=['accuracy'])\n",
    "\n",
    "filepath_rms = \"models/rms-model-{epoch:03d}-{val_acc:.2f}.h5\"\n",
    "rms_checkpoint_callback = callbacks.ModelCheckpoint(\n",
    "    filepath=filepath_rms,\n",
    "    save_weights_only=False,\n",
    "    monitor='val_acc',\n",
    "    mode='auto',\n",
    "    save_freq='epoch',\n",
    "    save_best_only=True)\n",
    "\n",
    "rms.summary()"
   ]
  },
  {
   "cell_type": "code",
   "execution_count": 60,
   "metadata": {},
   "outputs": [
    {
     "name": "stdout",
     "output_type": "stream",
     "text": [
      "Train on 45000 samples, validate on 5000 samples\n",
      "Epoch 1/50\n",
      "45000/45000 [==============================] - 98s 2ms/sample - loss: 2.0056 - acc: 0.2478 - val_loss: 1.8769 - val_acc: 0.2802\n",
      "Epoch 2/50\n",
      "45000/45000 [==============================] - 96s 2ms/sample - loss: 1.9077 - acc: 0.2924 - val_loss: 1.8948 - val_acc: 0.2800\n",
      "Epoch 3/50\n",
      "45000/45000 [==============================] - 96s 2ms/sample - loss: 1.9299 - acc: 0.2864 - val_loss: 1.9779 - val_acc: 0.2742\n",
      "Epoch 4/50\n",
      "45000/45000 [==============================] - 96s 2ms/sample - loss: 1.9432 - acc: 0.2739 - val_loss: 1.8601 - val_acc: 0.2950\n",
      "Epoch 5/50\n",
      "45000/45000 [==============================] - 97s 2ms/sample - loss: 1.9503 - acc: 0.2690 - val_loss: 1.8354 - val_acc: 0.3022\n",
      "Epoch 6/50\n",
      "45000/45000 [==============================] - 96s 2ms/sample - loss: 1.9407 - acc: 0.2709 - val_loss: 1.8654 - val_acc: 0.3090\n",
      "Epoch 7/50\n",
      "45000/45000 [==============================] - 96s 2ms/sample - loss: 1.9430 - acc: 0.2726 - val_loss: 1.7685 - val_acc: 0.3236\n",
      "Epoch 8/50\n",
      "45000/45000 [==============================] - 96s 2ms/sample - loss: 1.9465 - acc: 0.2722 - val_loss: 1.9857 - val_acc: 0.2616\n",
      "Epoch 9/50\n",
      "45000/45000 [==============================] - 96s 2ms/sample - loss: 1.9341 - acc: 0.2715 - val_loss: 1.7876 - val_acc: 0.3130\n",
      "Epoch 10/50\n",
      "45000/45000 [==============================] - 96s 2ms/sample - loss: 1.9591 - acc: 0.2631 - val_loss: 2.1979 - val_acc: 0.2062\n",
      "Epoch 11/50\n",
      "45000/45000 [==============================] - 96s 2ms/sample - loss: 1.9595 - acc: 0.2627 - val_loss: 2.0467 - val_acc: 0.2218\n",
      "Epoch 12/50\n",
      "45000/45000 [==============================] - 96s 2ms/sample - loss: 1.9614 - acc: 0.2615 - val_loss: 1.8844 - val_acc: 0.2756\n",
      "Epoch 13/50\n",
      "45000/45000 [==============================] - 97s 2ms/sample - loss: 1.9682 - acc: 0.2544 - val_loss: 1.8373 - val_acc: 0.2936\n",
      "Epoch 14/50\n",
      "45000/45000 [==============================] - 97s 2ms/sample - loss: 1.9513 - acc: 0.2638 - val_loss: 1.8253 - val_acc: 0.2982\n",
      "Epoch 15/50\n",
      "45000/45000 [==============================] - 94s 2ms/sample - loss: 1.9820 - acc: 0.2550 - val_loss: 1.8837 - val_acc: 0.2742\n",
      "Epoch 16/50\n",
      "45000/45000 [==============================] - 93s 2ms/sample - loss: 1.9549 - acc: 0.2634 - val_loss: 1.8463 - val_acc: 0.3084\n",
      "Epoch 17/50\n",
      "45000/45000 [==============================] - 93s 2ms/sample - loss: 1.9322 - acc: 0.2708 - val_loss: 1.7947 - val_acc: 0.3118\n",
      "Epoch 18/50\n",
      "45000/45000 [==============================] - 93s 2ms/sample - loss: 1.9577 - acc: 0.2615 - val_loss: 1.9361 - val_acc: 0.2586\n",
      "Epoch 19/50\n",
      "45000/45000 [==============================] - 93s 2ms/sample - loss: 1.9750 - acc: 0.2518 - val_loss: 1.8275 - val_acc: 0.2984\n",
      "Epoch 20/50\n",
      "45000/45000 [==============================] - 93s 2ms/sample - loss: 1.9628 - acc: 0.2583 - val_loss: 1.8357 - val_acc: 0.2984\n",
      "Epoch 21/50\n",
      "45000/45000 [==============================] - 93s 2ms/sample - loss: 1.9765 - acc: 0.2526 - val_loss: 1.8660 - val_acc: 0.2884\n",
      "Epoch 22/50\n",
      "45000/45000 [==============================] - 93s 2ms/sample - loss: 1.9468 - acc: 0.2554 - val_loss: 1.8246 - val_acc: 0.3058\n",
      "Epoch 23/50\n",
      "45000/45000 [==============================] - 94s 2ms/sample - loss: 1.9724 - acc: 0.2515 - val_loss: 1.8089 - val_acc: 0.3066\n",
      "Epoch 24/50\n",
      "45000/45000 [==============================] - 103s 2ms/sample - loss: 1.9583 - acc: 0.2575 - val_loss: 1.8185 - val_acc: 0.3050\n",
      "Epoch 25/50\n",
      " 2816/45000 [>.............................] - ETA: 1:30 - loss: 1.9411 - acc: 0.2592"
     ]
    },
    {
     "ename": "KeyboardInterrupt",
     "evalue": "",
     "traceback": [
      "\u001b[1;31m---------------------------------------------------------------------------\u001b[0m",
      "\u001b[1;31mKeyboardInterrupt\u001b[0m                         Traceback (most recent call last)",
      "\u001b[1;32m<ipython-input-60-b8dfd9331679>\u001b[0m in \u001b[0;36m<module>\u001b[1;34m\u001b[0m\n\u001b[1;32m----> 1\u001b[1;33m \u001b[0mrms_history\u001b[0m \u001b[1;33m=\u001b[0m \u001b[0mrms\u001b[0m\u001b[1;33m.\u001b[0m\u001b[0mfit\u001b[0m\u001b[1;33m(\u001b[0m\u001b[0mX_train\u001b[0m\u001b[1;33m,\u001b[0m \u001b[0mY_train\u001b[0m\u001b[1;33m,\u001b[0m \u001b[0mepochs\u001b[0m\u001b[1;33m=\u001b[0m\u001b[1;36m50\u001b[0m\u001b[1;33m,\u001b[0m \u001b[0mcallbacks\u001b[0m\u001b[1;33m=\u001b[0m\u001b[1;33m[\u001b[0m\u001b[0mrms_checkpoint_callback\u001b[0m\u001b[1;33m]\u001b[0m\u001b[1;33m,\u001b[0m \u001b[0mbatch_size\u001b[0m\u001b[1;33m=\u001b[0m\u001b[1;36m64\u001b[0m\u001b[1;33m,\u001b[0m \u001b[0mvalidation_split\u001b[0m\u001b[1;33m=\u001b[0m\u001b[1;36m0.1\u001b[0m\u001b[1;33m)\u001b[0m\u001b[1;33m\u001b[0m\u001b[1;33m\u001b[0m\u001b[0m\n\u001b[0m",
      "\u001b[1;32mC:\\Users\\Roozbeh\\Anaconda3\\lib\\site-packages\\tensorflow\\python\\keras\\engine\\training.py\u001b[0m in \u001b[0;36mfit\u001b[1;34m(self, x, y, batch_size, epochs, verbose, callbacks, validation_split, validation_data, shuffle, class_weight, sample_weight, initial_epoch, steps_per_epoch, validation_steps, validation_freq, max_queue_size, workers, use_multiprocessing, **kwargs)\u001b[0m\n\u001b[0;32m    778\u001b[0m           \u001b[0mvalidation_steps\u001b[0m\u001b[1;33m=\u001b[0m\u001b[0mvalidation_steps\u001b[0m\u001b[1;33m,\u001b[0m\u001b[1;33m\u001b[0m\u001b[1;33m\u001b[0m\u001b[0m\n\u001b[0;32m    779\u001b[0m           \u001b[0mvalidation_freq\u001b[0m\u001b[1;33m=\u001b[0m\u001b[0mvalidation_freq\u001b[0m\u001b[1;33m,\u001b[0m\u001b[1;33m\u001b[0m\u001b[1;33m\u001b[0m\u001b[0m\n\u001b[1;32m--> 780\u001b[1;33m           steps_name='steps_per_epoch')\n\u001b[0m\u001b[0;32m    781\u001b[0m \u001b[1;33m\u001b[0m\u001b[0m\n\u001b[0;32m    782\u001b[0m   def evaluate(self,\n",
      "\u001b[1;32mC:\\Users\\Roozbeh\\Anaconda3\\lib\\site-packages\\tensorflow\\python\\keras\\engine\\training_arrays.py\u001b[0m in \u001b[0;36mmodel_iteration\u001b[1;34m(model, inputs, targets, sample_weights, batch_size, epochs, verbose, callbacks, val_inputs, val_targets, val_sample_weights, shuffle, initial_epoch, steps_per_epoch, validation_steps, validation_freq, mode, validation_in_fit, prepared_feed_values_from_dataset, steps_name, **kwargs)\u001b[0m\n\u001b[0;32m    361\u001b[0m \u001b[1;33m\u001b[0m\u001b[0m\n\u001b[0;32m    362\u001b[0m         \u001b[1;31m# Get outputs.\u001b[0m\u001b[1;33m\u001b[0m\u001b[1;33m\u001b[0m\u001b[1;33m\u001b[0m\u001b[0m\n\u001b[1;32m--> 363\u001b[1;33m         \u001b[0mbatch_outs\u001b[0m \u001b[1;33m=\u001b[0m \u001b[0mf\u001b[0m\u001b[1;33m(\u001b[0m\u001b[0mins_batch\u001b[0m\u001b[1;33m)\u001b[0m\u001b[1;33m\u001b[0m\u001b[1;33m\u001b[0m\u001b[0m\n\u001b[0m\u001b[0;32m    364\u001b[0m         \u001b[1;32mif\u001b[0m \u001b[1;32mnot\u001b[0m \u001b[0misinstance\u001b[0m\u001b[1;33m(\u001b[0m\u001b[0mbatch_outs\u001b[0m\u001b[1;33m,\u001b[0m \u001b[0mlist\u001b[0m\u001b[1;33m)\u001b[0m\u001b[1;33m:\u001b[0m\u001b[1;33m\u001b[0m\u001b[1;33m\u001b[0m\u001b[0m\n\u001b[0;32m    365\u001b[0m           \u001b[0mbatch_outs\u001b[0m \u001b[1;33m=\u001b[0m \u001b[1;33m[\u001b[0m\u001b[0mbatch_outs\u001b[0m\u001b[1;33m]\u001b[0m\u001b[1;33m\u001b[0m\u001b[1;33m\u001b[0m\u001b[0m\n",
      "\u001b[1;32mC:\\Users\\Roozbeh\\Anaconda3\\lib\\site-packages\\tensorflow\\python\\keras\\backend.py\u001b[0m in \u001b[0;36m__call__\u001b[1;34m(self, inputs)\u001b[0m\n\u001b[0;32m   3290\u001b[0m \u001b[1;33m\u001b[0m\u001b[0m\n\u001b[0;32m   3291\u001b[0m     fetched = self._callable_fn(*array_vals,\n\u001b[1;32m-> 3292\u001b[1;33m                                 run_metadata=self.run_metadata)\n\u001b[0m\u001b[0;32m   3293\u001b[0m     \u001b[0mself\u001b[0m\u001b[1;33m.\u001b[0m\u001b[0m_call_fetch_callbacks\u001b[0m\u001b[1;33m(\u001b[0m\u001b[0mfetched\u001b[0m\u001b[1;33m[\u001b[0m\u001b[1;33m-\u001b[0m\u001b[0mlen\u001b[0m\u001b[1;33m(\u001b[0m\u001b[0mself\u001b[0m\u001b[1;33m.\u001b[0m\u001b[0m_fetches\u001b[0m\u001b[1;33m)\u001b[0m\u001b[1;33m:\u001b[0m\u001b[1;33m]\u001b[0m\u001b[1;33m)\u001b[0m\u001b[1;33m\u001b[0m\u001b[1;33m\u001b[0m\u001b[0m\n\u001b[0;32m   3294\u001b[0m     output_structure = nest.pack_sequence_as(\n",
      "\u001b[1;32mC:\\Users\\Roozbeh\\Anaconda3\\lib\\site-packages\\tensorflow\\python\\client\\session.py\u001b[0m in \u001b[0;36m__call__\u001b[1;34m(self, *args, **kwargs)\u001b[0m\n\u001b[0;32m   1456\u001b[0m         ret = tf_session.TF_SessionRunCallable(self._session._session,\n\u001b[0;32m   1457\u001b[0m                                                \u001b[0mself\u001b[0m\u001b[1;33m.\u001b[0m\u001b[0m_handle\u001b[0m\u001b[1;33m,\u001b[0m \u001b[0margs\u001b[0m\u001b[1;33m,\u001b[0m\u001b[1;33m\u001b[0m\u001b[1;33m\u001b[0m\u001b[0m\n\u001b[1;32m-> 1458\u001b[1;33m                                                run_metadata_ptr)\n\u001b[0m\u001b[0;32m   1459\u001b[0m         \u001b[1;32mif\u001b[0m \u001b[0mrun_metadata\u001b[0m\u001b[1;33m:\u001b[0m\u001b[1;33m\u001b[0m\u001b[1;33m\u001b[0m\u001b[0m\n\u001b[0;32m   1460\u001b[0m           \u001b[0mproto_data\u001b[0m \u001b[1;33m=\u001b[0m \u001b[0mtf_session\u001b[0m\u001b[1;33m.\u001b[0m\u001b[0mTF_GetBuffer\u001b[0m\u001b[1;33m(\u001b[0m\u001b[0mrun_metadata_ptr\u001b[0m\u001b[1;33m)\u001b[0m\u001b[1;33m\u001b[0m\u001b[1;33m\u001b[0m\u001b[0m\n",
      "\u001b[1;31mKeyboardInterrupt\u001b[0m: "
     ],
     "output_type": "error"
    }
   ],
   "source": [
    "rms_history = rms.fit(X_train, Y_train, epochs=50, callbacks=[rms_checkpoint_callback], batch_size=64, validation_split=0.1)"
   ]
  },
  {
   "cell_type": "markdown",
   "metadata": {},
   "source": [
    "## 2.2 RMSprop with smaller learning rate due to oscilation"
   ]
  },
  {
   "cell_type": "code",
   "execution_count": 20,
   "metadata": {},
   "outputs": [
    {
     "name": "stdout",
     "output_type": "stream",
     "text": [
      "Model: \"sequential_1\"\n",
      "_________________________________________________________________\n",
      "Layer (type)                 Output Shape              Param #   \n",
      "=================================================================\n",
      "conv2d_5 (Conv2D)            (None, 32, 32, 32)        896       \n",
      "_________________________________________________________________\n",
      "conv2d_6 (Conv2D)            (None, 32, 32, 32)        9248      \n",
      "_________________________________________________________________\n",
      "max_pooling2d_3 (MaxPooling2 (None, 16, 16, 32)        0         \n",
      "_________________________________________________________________\n",
      "dropout_4 (Dropout)          (None, 16, 16, 32)        0         \n",
      "_________________________________________________________________\n",
      "conv2d_7 (Conv2D)            (None, 16, 16, 64)        18496     \n",
      "_________________________________________________________________\n",
      "max_pooling2d_4 (MaxPooling2 (None, 8, 8, 64)          0         \n",
      "_________________________________________________________________\n",
      "dropout_5 (Dropout)          (None, 8, 8, 64)          0         \n",
      "_________________________________________________________________\n",
      "conv2d_8 (Conv2D)            (None, 8, 8, 128)         73856     \n",
      "_________________________________________________________________\n",
      "conv2d_9 (Conv2D)            (None, 8, 8, 128)         147584    \n",
      "_________________________________________________________________\n",
      "max_pooling2d_5 (MaxPooling2 (None, 4, 4, 128)         0         \n",
      "_________________________________________________________________\n",
      "dropout_6 (Dropout)          (None, 4, 4, 128)         0         \n",
      "_________________________________________________________________\n",
      "flatten_1 (Flatten)          (None, 2048)              0         \n",
      "_________________________________________________________________\n",
      "dense_2 (Dense)              (None, 128)               262272    \n",
      "_________________________________________________________________\n",
      "dropout_7 (Dropout)          (None, 128)               0         \n",
      "_________________________________________________________________\n",
      "dense_3 (Dense)              (None, 10)                1290      \n",
      "=================================================================\n",
      "Total params: 513,642\n",
      "Trainable params: 513,642\n",
      "Non-trainable params: 0\n",
      "_________________________________________________________________\n"
     ]
    }
   ],
   "source": [
    "rms = models.Sequential([\n",
    "    # cnn\n",
    "    layers.Conv2D(filters=32, kernel_size=(3,3), activation='relu', kernel_initializer='he_uniform', \n",
    "                  padding='same', input_shape=(X_train.shape[1:])),\n",
    "    layers.Conv2D(filters=32, kernel_size=(3,3), activation='relu', kernel_initializer='he_uniform', padding='same'),\n",
    "    layers.MaxPooling2D((2,2)),\n",
    "    layers.Dropout(0.2),\n",
    "    layers.Conv2D(filters=64, kernel_size=(3,3), activation='relu', kernel_initializer='he_uniform', padding='same'),\n",
    "    layers.MaxPooling2D((2,2)),\n",
    "    layers.Dropout(0.3),\n",
    "    layers.Conv2D(filters=128, kernel_size=(3,3), activation='relu', kernel_initializer='he_uniform', padding='same'),\n",
    "    layers.Conv2D(filters=128, kernel_size=(3,3), activation='relu', kernel_initializer='he_uniform', padding='same'),\n",
    "    layers.MaxPooling2D((2,2)),\n",
    "    layers.Dropout(0.4),\n",
    "    \n",
    "    # dense\n",
    "    layers.Flatten(),\n",
    "    layers.Dense(128, activation='relu', kernel_initializer='he_uniform'),\n",
    "    layers.Dropout(0.5),\n",
    "    layers.Dense(len(classes), activation='softmax'),\n",
    "])\n",
    "\n",
    "opt = optimizers.RMSprop(lr=0.0001, rho=0.9, momentum=0.9)\n",
    "rms.compile(optimizer=opt,\n",
    "            loss='sparse_categorical_crossentropy',\n",
    "            metrics=['accuracy'])\n",
    "\n",
    "filepath_rms = \"models/rms-model-{epoch:03d}-{val_acc:.2f}.h5\"\n",
    "rms_checkpoint_callback = callbacks.ModelCheckpoint(\n",
    "    filepath=filepath_rms,\n",
    "    save_weights_only=False,\n",
    "    monitor='val_acc',\n",
    "    mode='auto',\n",
    "    save_freq='epoch',\n",
    "    save_best_only=True)\n",
    "\n",
    "rms.summary()"
   ]
  },
  {
   "cell_type": "code",
   "execution_count": 21,
   "metadata": {},
   "outputs": [
    {
     "name": "stdout",
     "output_type": "stream",
     "text": [
      "Train on 45000 samples, validate on 5000 samples\n",
      "Epoch 1/50\n",
      "45000/45000 [==============================] - 100s 2ms/sample - loss: 1.7878 - acc: 0.3422 - val_loss: 1.3821 - val_acc: 0.4944\n",
      "Epoch 2/50\n",
      "45000/45000 [==============================] - 98s 2ms/sample - loss: 1.3660 - acc: 0.5093 - val_loss: 1.0885 - val_acc: 0.6198\n",
      "Epoch 3/50\n",
      "45000/45000 [==============================] - 94s 2ms/sample - loss: 1.1931 - acc: 0.5820 - val_loss: 0.9796 - val_acc: 0.6594\n",
      "Epoch 4/50\n",
      "45000/45000 [==============================] - 94s 2ms/sample - loss: 1.0777 - acc: 0.6248 - val_loss: 0.8613 - val_acc: 0.6976\n",
      "Epoch 5/50\n",
      "45000/45000 [==============================] - 94s 2ms/sample - loss: 0.9972 - acc: 0.6550 - val_loss: 0.8543 - val_acc: 0.7062\n",
      "Epoch 6/50\n",
      "45000/45000 [==============================] - 95s 2ms/sample - loss: 0.9542 - acc: 0.6746 - val_loss: 0.7824 - val_acc: 0.7308\n",
      "Epoch 7/50\n",
      "45000/45000 [==============================] - 94s 2ms/sample - loss: 0.9276 - acc: 0.6838 - val_loss: 0.7410 - val_acc: 0.7440\n",
      "Epoch 8/50\n",
      "45000/45000 [==============================] - 94s 2ms/sample - loss: 0.9046 - acc: 0.6947 - val_loss: 0.8184 - val_acc: 0.7188\n",
      "Epoch 9/50\n",
      "45000/45000 [==============================] - 94s 2ms/sample - loss: 0.9029 - acc: 0.6993 - val_loss: 0.7324 - val_acc: 0.7520\n",
      "Epoch 10/50\n",
      "45000/45000 [==============================] - 95s 2ms/sample - loss: 0.8866 - acc: 0.7032 - val_loss: 0.7696 - val_acc: 0.7542\n",
      "Epoch 11/50\n",
      "45000/45000 [==============================] - 94s 2ms/sample - loss: 0.8847 - acc: 0.7053 - val_loss: 0.7272 - val_acc: 0.7584\n",
      "Epoch 12/50\n",
      "45000/45000 [==============================] - 95s 2ms/sample - loss: 0.8944 - acc: 0.7090 - val_loss: 0.7372 - val_acc: 0.7640\n",
      "Epoch 13/50\n",
      "45000/45000 [==============================] - 94s 2ms/sample - loss: 0.8971 - acc: 0.7096 - val_loss: 0.7277 - val_acc: 0.7648\n",
      "Epoch 14/50\n",
      "45000/45000 [==============================] - 95s 2ms/sample - loss: 0.8883 - acc: 0.7108 - val_loss: 0.7352 - val_acc: 0.7562\n",
      "Epoch 15/50\n",
      "45000/45000 [==============================] - 95s 2ms/sample - loss: 0.8918 - acc: 0.7093 - val_loss: 0.7757 - val_acc: 0.7464\n",
      "Epoch 16/50\n",
      "45000/45000 [==============================] - 95s 2ms/sample - loss: 0.9068 - acc: 0.7064 - val_loss: 0.8403 - val_acc: 0.7376\n",
      "Epoch 17/50\n",
      "45000/45000 [==============================] - 95s 2ms/sample - loss: 0.9101 - acc: 0.7077 - val_loss: 0.7865 - val_acc: 0.7520\n",
      "Epoch 18/50\n",
      "45000/45000 [==============================] - 95s 2ms/sample - loss: 0.9140 - acc: 0.7083 - val_loss: 0.7423 - val_acc: 0.7552\n",
      "Epoch 19/50\n",
      "45000/45000 [==============================] - 95s 2ms/sample - loss: 0.9213 - acc: 0.7046 - val_loss: 0.6866 - val_acc: 0.7746\n",
      "Epoch 20/50\n",
      "45000/45000 [==============================] - 95s 2ms/sample - loss: 0.9168 - acc: 0.7067 - val_loss: 0.7489 - val_acc: 0.7604\n",
      "Epoch 21/50\n",
      "45000/45000 [==============================] - 95s 2ms/sample - loss: 0.9201 - acc: 0.7035 - val_loss: 0.9033 - val_acc: 0.6976\n",
      "Epoch 22/50\n",
      "45000/45000 [==============================] - 95s 2ms/sample - loss: 0.9294 - acc: 0.7004 - val_loss: 0.7113 - val_acc: 0.7686\n",
      "Epoch 23/50\n",
      "45000/45000 [==============================] - 93s 2ms/sample - loss: 0.9404 - acc: 0.7031 - val_loss: 0.7365 - val_acc: 0.7590\n",
      "Epoch 24/50\n",
      "45000/45000 [==============================] - 89s 2ms/sample - loss: 0.9476 - acc: 0.7003 - val_loss: 0.7828 - val_acc: 0.7404\n",
      "Epoch 25/50\n",
      "45000/45000 [==============================] - 90s 2ms/sample - loss: 0.9653 - acc: 0.6943 - val_loss: 0.7808 - val_acc: 0.7568\n",
      "Epoch 26/50\n",
      "45000/45000 [==============================] - 90s 2ms/sample - loss: 0.9613 - acc: 0.6969 - val_loss: 0.7327 - val_acc: 0.7580\n",
      "Epoch 27/50\n",
      "45000/45000 [==============================] - 89s 2ms/sample - loss: 0.9603 - acc: 0.6919 - val_loss: 0.7033 - val_acc: 0.7710\n",
      "Epoch 28/50\n",
      "45000/45000 [==============================] - 93s 2ms/sample - loss: 0.9805 - acc: 0.6872 - val_loss: 0.7744 - val_acc: 0.7400\n",
      "Epoch 29/50\n",
      "45000/45000 [==============================] - 95s 2ms/sample - loss: 0.9732 - acc: 0.6935 - val_loss: 0.8251 - val_acc: 0.7286\n",
      "Epoch 30/50\n",
      "45000/45000 [==============================] - 95s 2ms/sample - loss: 0.9785 - acc: 0.6901 - val_loss: 0.7983 - val_acc: 0.7294\n",
      "Epoch 31/50\n",
      "45000/45000 [==============================] - 95s 2ms/sample - loss: 0.9997 - acc: 0.6842 - val_loss: 0.8737 - val_acc: 0.7136\n",
      "Epoch 32/50\n",
      "45000/45000 [==============================] - 95s 2ms/sample - loss: 0.9999 - acc: 0.6865 - val_loss: 0.7700 - val_acc: 0.7434\n",
      "Epoch 33/50\n",
      "45000/45000 [==============================] - 95s 2ms/sample - loss: 0.9813 - acc: 0.6946 - val_loss: 0.7462 - val_acc: 0.7540\n",
      "Epoch 34/50\n",
      "45000/45000 [==============================] - 96s 2ms/sample - loss: 0.9913 - acc: 0.6859 - val_loss: 0.7951 - val_acc: 0.7302\n",
      "Epoch 35/50\n",
      " 6272/45000 [===>..........................] - ETA: 1:23 - loss: 0.9749 - acc: 0.7020"
     ]
    },
    {
     "ename": "KeyboardInterrupt",
     "evalue": "",
     "traceback": [
      "\u001b[1;31m---------------------------------------------------------------------------\u001b[0m",
      "\u001b[1;31mKeyboardInterrupt\u001b[0m                         Traceback (most recent call last)",
      "\u001b[1;32m<ipython-input-21-b8dfd9331679>\u001b[0m in \u001b[0;36m<module>\u001b[1;34m\u001b[0m\n\u001b[1;32m----> 1\u001b[1;33m \u001b[0mrms_history\u001b[0m \u001b[1;33m=\u001b[0m \u001b[0mrms\u001b[0m\u001b[1;33m.\u001b[0m\u001b[0mfit\u001b[0m\u001b[1;33m(\u001b[0m\u001b[0mX_train\u001b[0m\u001b[1;33m,\u001b[0m \u001b[0mY_train\u001b[0m\u001b[1;33m,\u001b[0m \u001b[0mepochs\u001b[0m\u001b[1;33m=\u001b[0m\u001b[1;36m50\u001b[0m\u001b[1;33m,\u001b[0m \u001b[0mcallbacks\u001b[0m\u001b[1;33m=\u001b[0m\u001b[1;33m[\u001b[0m\u001b[0mrms_checkpoint_callback\u001b[0m\u001b[1;33m]\u001b[0m\u001b[1;33m,\u001b[0m \u001b[0mbatch_size\u001b[0m\u001b[1;33m=\u001b[0m\u001b[1;36m64\u001b[0m\u001b[1;33m,\u001b[0m \u001b[0mvalidation_split\u001b[0m\u001b[1;33m=\u001b[0m\u001b[1;36m0.1\u001b[0m\u001b[1;33m)\u001b[0m\u001b[1;33m\u001b[0m\u001b[1;33m\u001b[0m\u001b[0m\n\u001b[0m",
      "\u001b[1;32mC:\\Users\\Roozbeh\\Anaconda3\\lib\\site-packages\\tensorflow\\python\\keras\\engine\\training.py\u001b[0m in \u001b[0;36mfit\u001b[1;34m(self, x, y, batch_size, epochs, verbose, callbacks, validation_split, validation_data, shuffle, class_weight, sample_weight, initial_epoch, steps_per_epoch, validation_steps, validation_freq, max_queue_size, workers, use_multiprocessing, **kwargs)\u001b[0m\n\u001b[0;32m    778\u001b[0m           \u001b[0mvalidation_steps\u001b[0m\u001b[1;33m=\u001b[0m\u001b[0mvalidation_steps\u001b[0m\u001b[1;33m,\u001b[0m\u001b[1;33m\u001b[0m\u001b[1;33m\u001b[0m\u001b[0m\n\u001b[0;32m    779\u001b[0m           \u001b[0mvalidation_freq\u001b[0m\u001b[1;33m=\u001b[0m\u001b[0mvalidation_freq\u001b[0m\u001b[1;33m,\u001b[0m\u001b[1;33m\u001b[0m\u001b[1;33m\u001b[0m\u001b[0m\n\u001b[1;32m--> 780\u001b[1;33m           steps_name='steps_per_epoch')\n\u001b[0m\u001b[0;32m    781\u001b[0m \u001b[1;33m\u001b[0m\u001b[0m\n\u001b[0;32m    782\u001b[0m   def evaluate(self,\n",
      "\u001b[1;32mC:\\Users\\Roozbeh\\Anaconda3\\lib\\site-packages\\tensorflow\\python\\keras\\engine\\training_arrays.py\u001b[0m in \u001b[0;36mmodel_iteration\u001b[1;34m(model, inputs, targets, sample_weights, batch_size, epochs, verbose, callbacks, val_inputs, val_targets, val_sample_weights, shuffle, initial_epoch, steps_per_epoch, validation_steps, validation_freq, mode, validation_in_fit, prepared_feed_values_from_dataset, steps_name, **kwargs)\u001b[0m\n\u001b[0;32m    361\u001b[0m \u001b[1;33m\u001b[0m\u001b[0m\n\u001b[0;32m    362\u001b[0m         \u001b[1;31m# Get outputs.\u001b[0m\u001b[1;33m\u001b[0m\u001b[1;33m\u001b[0m\u001b[1;33m\u001b[0m\u001b[0m\n\u001b[1;32m--> 363\u001b[1;33m         \u001b[0mbatch_outs\u001b[0m \u001b[1;33m=\u001b[0m \u001b[0mf\u001b[0m\u001b[1;33m(\u001b[0m\u001b[0mins_batch\u001b[0m\u001b[1;33m)\u001b[0m\u001b[1;33m\u001b[0m\u001b[1;33m\u001b[0m\u001b[0m\n\u001b[0m\u001b[0;32m    364\u001b[0m         \u001b[1;32mif\u001b[0m \u001b[1;32mnot\u001b[0m \u001b[0misinstance\u001b[0m\u001b[1;33m(\u001b[0m\u001b[0mbatch_outs\u001b[0m\u001b[1;33m,\u001b[0m \u001b[0mlist\u001b[0m\u001b[1;33m)\u001b[0m\u001b[1;33m:\u001b[0m\u001b[1;33m\u001b[0m\u001b[1;33m\u001b[0m\u001b[0m\n\u001b[0;32m    365\u001b[0m           \u001b[0mbatch_outs\u001b[0m \u001b[1;33m=\u001b[0m \u001b[1;33m[\u001b[0m\u001b[0mbatch_outs\u001b[0m\u001b[1;33m]\u001b[0m\u001b[1;33m\u001b[0m\u001b[1;33m\u001b[0m\u001b[0m\n",
      "\u001b[1;32mC:\\Users\\Roozbeh\\Anaconda3\\lib\\site-packages\\tensorflow\\python\\keras\\backend.py\u001b[0m in \u001b[0;36m__call__\u001b[1;34m(self, inputs)\u001b[0m\n\u001b[0;32m   3290\u001b[0m \u001b[1;33m\u001b[0m\u001b[0m\n\u001b[0;32m   3291\u001b[0m     fetched = self._callable_fn(*array_vals,\n\u001b[1;32m-> 3292\u001b[1;33m                                 run_metadata=self.run_metadata)\n\u001b[0m\u001b[0;32m   3293\u001b[0m     \u001b[0mself\u001b[0m\u001b[1;33m.\u001b[0m\u001b[0m_call_fetch_callbacks\u001b[0m\u001b[1;33m(\u001b[0m\u001b[0mfetched\u001b[0m\u001b[1;33m[\u001b[0m\u001b[1;33m-\u001b[0m\u001b[0mlen\u001b[0m\u001b[1;33m(\u001b[0m\u001b[0mself\u001b[0m\u001b[1;33m.\u001b[0m\u001b[0m_fetches\u001b[0m\u001b[1;33m)\u001b[0m\u001b[1;33m:\u001b[0m\u001b[1;33m]\u001b[0m\u001b[1;33m)\u001b[0m\u001b[1;33m\u001b[0m\u001b[1;33m\u001b[0m\u001b[0m\n\u001b[0;32m   3294\u001b[0m     output_structure = nest.pack_sequence_as(\n",
      "\u001b[1;32mC:\\Users\\Roozbeh\\Anaconda3\\lib\\site-packages\\tensorflow\\python\\client\\session.py\u001b[0m in \u001b[0;36m__call__\u001b[1;34m(self, *args, **kwargs)\u001b[0m\n\u001b[0;32m   1456\u001b[0m         ret = tf_session.TF_SessionRunCallable(self._session._session,\n\u001b[0;32m   1457\u001b[0m                                                \u001b[0mself\u001b[0m\u001b[1;33m.\u001b[0m\u001b[0m_handle\u001b[0m\u001b[1;33m,\u001b[0m \u001b[0margs\u001b[0m\u001b[1;33m,\u001b[0m\u001b[1;33m\u001b[0m\u001b[1;33m\u001b[0m\u001b[0m\n\u001b[1;32m-> 1458\u001b[1;33m                                                run_metadata_ptr)\n\u001b[0m\u001b[0;32m   1459\u001b[0m         \u001b[1;32mif\u001b[0m \u001b[0mrun_metadata\u001b[0m\u001b[1;33m:\u001b[0m\u001b[1;33m\u001b[0m\u001b[1;33m\u001b[0m\u001b[0m\n\u001b[0;32m   1460\u001b[0m           \u001b[0mproto_data\u001b[0m \u001b[1;33m=\u001b[0m \u001b[0mtf_session\u001b[0m\u001b[1;33m.\u001b[0m\u001b[0mTF_GetBuffer\u001b[0m\u001b[1;33m(\u001b[0m\u001b[0mrun_metadata_ptr\u001b[0m\u001b[1;33m)\u001b[0m\u001b[1;33m\u001b[0m\u001b[1;33m\u001b[0m\u001b[0m\n",
      "\u001b[1;31mKeyboardInterrupt\u001b[0m: "
     ],
     "output_type": "error"
    }
   ],
   "source": [
    "rms_history = rms.fit(X_train, Y_train, epochs=50, callbacks=[rms_checkpoint_callback], batch_size=64, validation_split=0.1)"
   ]
  },
  {
   "cell_type": "code",
   "execution_count": 25,
   "metadata": {},
   "outputs": [],
   "source": [
    "filepath = 'models/rms_35_wm_il.h5'\n",
    "rms.save(filepath)"
   ]
  },
  {
   "cell_type": "markdown",
   "metadata": {},
   "source": [
    "## 2.3 RMSprop with 0 momentum"
   ]
  },
  {
   "cell_type": "code",
   "execution_count": 10,
   "metadata": {},
   "outputs": [
    {
     "name": "stdout",
     "output_type": "stream",
     "text": [
      "Model: \"sequential\"\n",
      "_________________________________________________________________\n",
      "Layer (type)                 Output Shape              Param #   \n",
      "=================================================================\n",
      "conv2d (Conv2D)              (None, 32, 32, 32)        896       \n",
      "_________________________________________________________________\n",
      "conv2d_1 (Conv2D)            (None, 32, 32, 32)        9248      \n",
      "_________________________________________________________________\n",
      "max_pooling2d (MaxPooling2D) (None, 16, 16, 32)        0         \n",
      "_________________________________________________________________\n",
      "dropout (Dropout)            (None, 16, 16, 32)        0         \n",
      "_________________________________________________________________\n",
      "conv2d_2 (Conv2D)            (None, 16, 16, 64)        18496     \n",
      "_________________________________________________________________\n",
      "max_pooling2d_1 (MaxPooling2 (None, 8, 8, 64)          0         \n",
      "_________________________________________________________________\n",
      "dropout_1 (Dropout)          (None, 8, 8, 64)          0         \n",
      "_________________________________________________________________\n",
      "conv2d_3 (Conv2D)            (None, 8, 8, 128)         73856     \n",
      "_________________________________________________________________\n",
      "conv2d_4 (Conv2D)            (None, 8, 8, 128)         147584    \n",
      "_________________________________________________________________\n",
      "max_pooling2d_2 (MaxPooling2 (None, 4, 4, 128)         0         \n",
      "_________________________________________________________________\n",
      "dropout_2 (Dropout)          (None, 4, 4, 128)         0         \n",
      "_________________________________________________________________\n",
      "flatten (Flatten)            (None, 2048)              0         \n",
      "_________________________________________________________________\n",
      "dense (Dense)                (None, 128)               262272    \n",
      "_________________________________________________________________\n",
      "dropout_3 (Dropout)          (None, 128)               0         \n",
      "_________________________________________________________________\n",
      "dense_1 (Dense)              (None, 10)                1290      \n",
      "=================================================================\n",
      "Total params: 513,642\n",
      "Trainable params: 513,642\n",
      "Non-trainable params: 0\n",
      "_________________________________________________________________\n"
     ]
    }
   ],
   "source": [
    "rms = models.Sequential([\n",
    "    # cnn\n",
    "    layers.Conv2D(filters=32, kernel_size=(3,3), activation='relu', kernel_initializer='he_uniform', \n",
    "                  padding='same', input_shape=(X_train.shape[1:])),\n",
    "    layers.Conv2D(filters=32, kernel_size=(3,3), activation='relu', kernel_initializer='he_uniform', padding='same'),\n",
    "    layers.MaxPooling2D((2,2)),\n",
    "    layers.Dropout(0.2),\n",
    "    layers.Conv2D(filters=64, kernel_size=(3,3), activation='relu', kernel_initializer='he_uniform', padding='same'),\n",
    "    layers.MaxPooling2D((2,2)),\n",
    "    layers.Dropout(0.3),\n",
    "    layers.Conv2D(filters=128, kernel_size=(3,3), activation='relu', kernel_initializer='he_uniform', padding='same'),\n",
    "    layers.Conv2D(filters=128, kernel_size=(3,3), activation='relu', kernel_initializer='he_uniform', padding='same'),\n",
    "    layers.MaxPooling2D((2,2)),\n",
    "    layers.Dropout(0.4),\n",
    "    \n",
    "    # dense\n",
    "    layers.Flatten(),\n",
    "    layers.Dense(128, activation='relu', kernel_initializer='he_uniform'),\n",
    "    layers.Dropout(0.5),\n",
    "    layers.Dense(len(classes), activation='softmax'),\n",
    "])\n",
    "\n",
    "opt = optimizers.RMSprop(lr=0.001, rho=0.9, momentum=0.0)\n",
    "rms.compile(optimizer=opt,\n",
    "            loss='sparse_categorical_crossentropy',\n",
    "            metrics=['accuracy'])\n",
    "\n",
    "filepath_rms = \"models/rms-model-{epoch:03d}-{val_acc:.2f}.h5\"\n",
    "rms_checkpoint_callback = callbacks.ModelCheckpoint(\n",
    "    filepath=filepath_rms,\n",
    "    save_weights_only=False,\n",
    "    monitor='val_acc',\n",
    "    mode='auto',\n",
    "    save_freq='epoch',\n",
    "    save_best_only=True)\n",
    "\n",
    "rms.summary()"
   ]
  },
  {
   "cell_type": "code",
   "execution_count": 28,
   "metadata": {},
   "outputs": [
    {
     "name": "stdout",
     "output_type": "stream",
     "text": [
      "Train on 45000 samples, validate on 5000 samples\n",
      "Epoch 1/5\n",
      "45000/45000 [==============================] - 94s 2ms/sample - loss: 1.7173 - acc: 0.3778 - val_loss: 1.5215 - val_acc: 0.4216\n",
      "Epoch 2/5\n",
      "45000/45000 [==============================] - 94s 2ms/sample - loss: 1.2958 - acc: 0.5426 - val_loss: 1.1092 - val_acc: 0.6048\n",
      "Epoch 3/5\n",
      "45000/45000 [==============================] - 95s 2ms/sample - loss: 1.1187 - acc: 0.6120 - val_loss: 0.8531 - val_acc: 0.7000\n",
      "Epoch 4/5\n",
      "45000/45000 [==============================] - 94s 2ms/sample - loss: 1.0200 - acc: 0.6477 - val_loss: 0.9412 - val_acc: 0.6882\n",
      "Epoch 5/5\n",
      "45000/45000 [==============================] - 95s 2ms/sample - loss: 0.9676 - acc: 0.6716 - val_loss: 0.8333 - val_acc: 0.7100\n"
     ]
    }
   ],
   "source": [
    "rms_history = rms.fit(X_train, Y_train, epochs=5, callbacks=[rms_checkpoint_callback], batch_size=64, validation_split=0.1)"
   ]
  },
  {
   "cell_type": "code",
   "execution_count": 29,
   "metadata": {},
   "outputs": [
    {
     "name": "stdout",
     "output_type": "stream",
     "text": [
      "Train on 45000 samples, validate on 5000 samples\n",
      "Epoch 1/10\n",
      "45000/45000 [==============================] - 94s 2ms/sample - loss: 0.9427 - acc: 0.6828 - val_loss: 0.8696 - val_acc: 0.7018\n",
      "Epoch 2/10\n",
      "45000/45000 [==============================] - 94s 2ms/sample - loss: 0.9208 - acc: 0.6876 - val_loss: 0.9149 - val_acc: 0.6930\n",
      "Epoch 3/10\n",
      "45000/45000 [==============================] - 95s 2ms/sample - loss: 0.9112 - acc: 0.6932 - val_loss: 0.7967 - val_acc: 0.7362\n",
      "Epoch 4/10\n",
      "45000/45000 [==============================] - 94s 2ms/sample - loss: 0.9179 - acc: 0.6944 - val_loss: 0.8630 - val_acc: 0.7160\n",
      "Epoch 5/10\n",
      "45000/45000 [==============================] - 95s 2ms/sample - loss: 0.9116 - acc: 0.6999 - val_loss: 0.7557 - val_acc: 0.7382\n",
      "Epoch 6/10\n",
      "45000/45000 [==============================] - 95s 2ms/sample - loss: 0.9044 - acc: 0.6981 - val_loss: 0.8478 - val_acc: 0.7270\n",
      "Epoch 7/10\n",
      "45000/45000 [==============================] - 95s 2ms/sample - loss: 0.9130 - acc: 0.6996 - val_loss: 0.9322 - val_acc: 0.7252\n",
      "Epoch 8/10\n",
      "45000/45000 [==============================] - 95s 2ms/sample - loss: 0.9119 - acc: 0.6996 - val_loss: 0.8646 - val_acc: 0.7172\n",
      "Epoch 9/10\n",
      "45000/45000 [==============================] - 95s 2ms/sample - loss: 0.9188 - acc: 0.6982 - val_loss: 0.8462 - val_acc: 0.7252\n",
      "Epoch 10/10\n",
      "45000/45000 [==============================] - 95s 2ms/sample - loss: 0.9218 - acc: 0.6985 - val_loss: 0.9108 - val_acc: 0.7110\n"
     ]
    }
   ],
   "source": [
    "rms_history = rms.fit(X_train, Y_train, epochs=10, callbacks=[rms_checkpoint_callback], batch_size=64, validation_split=0.1)"
   ]
  },
  {
   "cell_type": "code",
   "execution_count": 30,
   "metadata": {},
   "outputs": [],
   "source": [
    "filepath = 'models/rms_15_l.h5'\n",
    "rms.save(filepath)"
   ]
  },
  {
   "cell_type": "code",
   "execution_count": 31,
   "metadata": {},
   "outputs": [
    {
     "data": {
      "image/png": "[encoded data removed]",
      "text/plain": [
       "<Figure size 432x288 with 1 Axes>"
      ]
     },
     "metadata": {
      "needs_background": "light"
     },
     "output_type": "display_data"
    }
   ],
   "source": [
    "plt.plot(rms_history.history['loss'])\n",
    "plt.plot(rms_history.history['val_loss'])\n",
    "plt.title('model loss')\n",
    "plt.ylabel('loss')\n",
    "plt.xlabel('epoch')\n",
    "plt.legend(['train', 'test'], loc='upper left')\n",
    "plt.show()"
   ]
  },
  {
   "cell_type": "code",
   "execution_count": 12,
   "metadata": {},
   "outputs": [],
   "source": [
    "rms = models.load_model('models/rms_15_l.h5')"
   ]
  },
  {
   "cell_type": "code",
   "execution_count": 14,
   "metadata": {},
   "outputs": [
    {
     "name": "stdout",
     "output_type": "stream",
     "text": [
      "Train on 45000 samples, validate on 5000 samples\n",
      "Epoch 1/5\n",
      "45000/45000 [==============================] - 95s 2ms/sample - loss: 0.9292 - acc: 0.6965 - val_loss: 1.0540 - val_acc: 0.6828\n",
      "Epoch 2/5\n",
      "45000/45000 [==============================] - 98s 2ms/sample - loss: 0.9294 - acc: 0.6961 - val_loss: 0.8951 - val_acc: 0.7042\n",
      "Epoch 3/5\n",
      "45000/45000 [==============================] - 98s 2ms/sample - loss: 0.9374 - acc: 0.6961 - val_loss: 0.9777 - val_acc: 0.6640\n",
      "Epoch 4/5\n",
      "45000/45000 [==============================] - 98s 2ms/sample - loss: 0.9473 - acc: 0.6934 - val_loss: 0.8952 - val_acc: 0.7104\n",
      "Epoch 5/5\n",
      "45000/45000 [==============================] - 184s 4ms/sample - loss: 0.9614 - acc: 0.6877 - val_loss: 0.9319 - val_acc: 0.7168\n"
     ]
    }
   ],
   "source": [
    "rms_history = rms.fit(X_train, Y_train, epochs=5, callbacks=[rms_checkpoint_callback], batch_size=64, validation_split=0.1)"
   ]
  },
  {
   "cell_type": "code",
   "execution_count": 15,
   "metadata": {},
   "outputs": [
    {
     "name": "stdout",
     "output_type": "stream",
     "text": [
      "10000/10000 [==============================] - 12s 1ms/sample - loss: 0.9844 - acc: 0.6964\n"
     ]
    },
    {
     "data": {
      "text/plain": [
       "[0.9843933242797852, 0.6964]"
      ]
     },
     "execution_count": 15,
     "metadata": {},
     "output_type": "execute_result"
    }
   ],
   "source": [
    "rms.evaluate(X_test, Y_test)"
   ]
  },
  {
   "cell_type": "code",
   "execution_count": 16,
   "metadata": {},
   "outputs": [
    {
     "name": "stdout",
     "output_type": "stream",
     "text": [
      "Classification report:\n",
      "               precision    recall  f1-score   support\n",
      "\n",
      "           0       0.79      0.64      0.71      1000\n",
      "           1       0.90      0.82      0.86      1000\n",
      "           2       0.65      0.48      0.55      1000\n",
      "           3       0.59      0.40      0.47      1000\n",
      "           4       0.52      0.80      0.63      1000\n",
      "           5       0.82      0.42      0.55      1000\n",
      "           6       0.60      0.92      0.72      1000\n",
      "           7       0.79      0.72      0.75      1000\n",
      "           8       0.76      0.88      0.81      1000\n",
      "           9       0.74      0.90      0.81      1000\n",
      "\n",
      "    accuracy                           0.70     10000\n",
      "   macro avg       0.71      0.70      0.69     10000\n",
      "weighted avg       0.71      0.70      0.69     10000\n",
      "\n"
     ]
    }
   ],
   "source": [
    "Y_pred = rms.predict(X_test)\n",
    "Y_pred_classes = [np.argmax(element) for element in Y_pred]\n",
    "\n",
    "print('Classification report:\\n', classification_report(Y_test, Y_pred_classes))"
   ]
  },
  {
   "cell_type": "markdown",
   "metadata": {},
   "source": [
    "# 3. CNN with Adam"
   ]
  },
  {
   "cell_type": "code",
   "execution_count": 13,
   "metadata": {},
   "outputs": [
    {
     "name": "stdout",
     "output_type": "stream",
     "text": [
      "Model: \"sequential\"\n",
      "_________________________________________________________________\n",
      "Layer (type)                 Output Shape              Param #   \n",
      "=================================================================\n",
      "conv2d (Conv2D)              (None, 32, 32, 32)        896       \n",
      "_________________________________________________________________\n",
      "conv2d_1 (Conv2D)            (None, 32, 32, 32)        9248      \n",
      "_________________________________________________________________\n",
      "max_pooling2d (MaxPooling2D) (None, 16, 16, 32)        0         \n",
      "_________________________________________________________________\n",
      "dropout (Dropout)            (None, 16, 16, 32)        0         \n",
      "_________________________________________________________________\n",
      "conv2d_2 (Conv2D)            (None, 16, 16, 64)        18496     \n",
      "_________________________________________________________________\n",
      "max_pooling2d_1 (MaxPooling2 (None, 8, 8, 64)          0         \n",
      "_________________________________________________________________\n",
      "dropout_1 (Dropout)          (None, 8, 8, 64)          0         \n",
      "_________________________________________________________________\n",
      "conv2d_3 (Conv2D)            (None, 8, 8, 128)         73856     \n",
      "_________________________________________________________________\n",
      "conv2d_4 (Conv2D)            (None, 8, 8, 128)         147584    \n",
      "_________________________________________________________________\n",
      "max_pooling2d_2 (MaxPooling2 (None, 4, 4, 128)         0         \n",
      "_________________________________________________________________\n",
      "dropout_2 (Dropout)          (None, 4, 4, 128)         0         \n",
      "_________________________________________________________________\n",
      "flatten (Flatten)            (None, 2048)              0         \n",
      "_________________________________________________________________\n",
      "dense (Dense)                (None, 128)               262272    \n",
      "_________________________________________________________________\n",
      "dropout_3 (Dropout)          (None, 128)               0         \n",
      "_________________________________________________________________\n",
      "dense_1 (Dense)              (None, 10)                1290      \n",
      "=================================================================\n",
      "Total params: 513,642\n",
      "Trainable params: 513,642\n",
      "Non-trainable params: 0\n",
      "_________________________________________________________________\n"
     ]
    }
   ],
   "source": [
    "adam = models.Sequential([\n",
    "    # cnn\n",
    "    layers.Conv2D(filters=32, kernel_size=(3,3), activation='relu', kernel_initializer='he_uniform', \n",
    "                  padding='same', input_shape=(X_train.shape[1:])),\n",
    "    layers.Conv2D(filters=32, kernel_size=(3,3), activation='relu', kernel_initializer='he_uniform', padding='same'),\n",
    "    layers.MaxPooling2D((2,2)),\n",
    "    layers.Dropout(0.2),\n",
    "    layers.Conv2D(filters=64, kernel_size=(3,3), activation='relu', kernel_initializer='he_uniform', padding='same'),\n",
    "    layers.MaxPooling2D((2,2)),\n",
    "    layers.Dropout(0.3),\n",
    "    layers.Conv2D(filters=128, kernel_size=(3,3), activation='relu', kernel_initializer='he_uniform', padding='same'),\n",
    "    layers.Conv2D(filters=128, kernel_size=(3,3), activation='relu', kernel_initializer='he_uniform', padding='same'),\n",
    "    layers.MaxPooling2D((2,2)),\n",
    "    layers.Dropout(0.4),\n",
    "    \n",
    "    # dense\n",
    "    layers.Flatten(),\n",
    "    layers.Dense(128, activation='relu', kernel_initializer='he_uniform'),\n",
    "    layers.Dropout(0.5),\n",
    "    layers.Dense(len(classes), activation='softmax'),\n",
    "])\n",
    "\n",
    "opt = optimizers.Adam(lr=0.001, beta_1=0.9, beta_2=0.999)\n",
    "adam.compile(optimizer=opt,\n",
    "            loss='sparse_categorical_crossentropy',\n",
    "            metrics=['accuracy'])\n",
    "\n",
    "filepath_adam = \"models/adam-model-{epoch:03d}-{val_acc:.2f}.h5\"\n",
    "adam_checkpoint_callback = callbacks.ModelCheckpoint(\n",
    "    filepath=filepath_adam,\n",
    "    save_weights_only=False,\n",
    "    monitor='val_acc',\n",
    "    mode='auto',\n",
    "    save_freq='epoch',\n",
    "    save_best_only=True)\n",
    "\n",
    "adam.summary()"
   ]
  },
  {
   "cell_type": "code",
   "execution_count": null,
   "metadata": {},
   "outputs": [
    {
     "name": "stdout",
     "output_type": "stream",
     "text": [
      "Train on 45000 samples, validate on 5000 samples\n",
      "Epoch 1/50\n",
      "45000/45000 [==============================] - 101s 2ms/sample - loss: 1.8114 - acc: 0.3261 - val_loss: 1.3854 - val_acc: 0.4944\n",
      "Epoch 2/50\n",
      "45000/45000 [==============================] - 98s 2ms/sample - loss: 1.3865 - acc: 0.4981 - val_loss: 1.1904 - val_acc: 0.5710\n",
      "Epoch 3/50\n",
      "45000/45000 [==============================] - 99s 2ms/sample - loss: 1.2001 - acc: 0.5724 - val_loss: 0.9868 - val_acc: 0.6556\n",
      "Epoch 4/50\n",
      "45000/45000 [==============================] - 97s 2ms/sample - loss: 1.0913 - acc: 0.6172 - val_loss: 0.8978 - val_acc: 0.6770\n",
      "Epoch 5/50\n",
      "45000/45000 [==============================] - 97s 2ms/sample - loss: 1.0084 - acc: 0.6490 - val_loss: 0.8026 - val_acc: 0.7222\n",
      "Epoch 6/50\n",
      "45000/45000 [==============================] - 98s 2ms/sample - loss: 0.9417 - acc: 0.6673 - val_loss: 0.7964 - val_acc: 0.7122\n",
      "Epoch 7/50\n",
      "45000/45000 [==============================] - 98s 2ms/sample - loss: 0.8943 - acc: 0.6883 - val_loss: 0.8678 - val_acc: 0.7002\n",
      "Epoch 8/50\n",
      "45000/45000 [==============================] - 100s 2ms/sample - loss: 0.8575 - acc: 0.7036 - val_loss: 0.6880 - val_acc: 0.7594\n",
      "Epoch 9/50\n",
      "45000/45000 [==============================] - 99s 2ms/sample - loss: 0.8207 - acc: 0.7164 - val_loss: 0.6713 - val_acc: 0.7704\n",
      "Epoch 10/50\n",
      "45000/45000 [==============================] - 100s 2ms/sample - loss: 0.7859 - acc: 0.7296 - val_loss: 0.6502 - val_acc: 0.7778\n",
      "Epoch 11/50\n",
      "45000/45000 [==============================] - 99s 2ms/sample - loss: 0.7661 - acc: 0.7376 - val_loss: 0.6757 - val_acc: 0.7704\n",
      "Epoch 12/50\n",
      "45000/45000 [==============================] - 99s 2ms/sample - loss: 0.7407 - acc: 0.7428 - val_loss: 0.6684 - val_acc: 0.7680\n",
      "Epoch 13/50\n",
      "45000/45000 [==============================] - 100s 2ms/sample - loss: 0.7158 - acc: 0.7517 - val_loss: 0.6168 - val_acc: 0.7922\n",
      "Epoch 14/50\n",
      "45000/45000 [==============================] - 99s 2ms/sample - loss: 0.7060 - acc: 0.7576 - val_loss: 0.6368 - val_acc: 0.7836\n",
      "Epoch 15/50\n",
      "45000/45000 [==============================] - 100s 2ms/sample - loss: 0.6903 - acc: 0.7597 - val_loss: 0.6015 - val_acc: 0.7960\n",
      "Epoch 16/50\n",
      "45000/45000 [==============================] - 100s 2ms/sample - loss: 0.6636 - acc: 0.7702 - val_loss: 0.5846 - val_acc: 0.8028\n",
      "Epoch 17/50\n",
      "45000/45000 [==============================] - 100s 2ms/sample - loss: 0.6504 - acc: 0.7752 - val_loss: 0.5943 - val_acc: 0.7978\n",
      "Epoch 18/50\n",
      "45000/45000 [==============================] - 99s 2ms/sample - loss: 0.6495 - acc: 0.7756 - val_loss: 0.5809 - val_acc: 0.8022\n",
      "Epoch 19/50\n",
      "45000/45000 [==============================] - 100s 2ms/sample - loss: 0.6337 - acc: 0.7812 - val_loss: 0.5728 - val_acc: 0.8078\n",
      "Epoch 20/50\n",
      "45000/45000 [==============================] - 99s 2ms/sample - loss: 0.6247 - acc: 0.7852 - val_loss: 0.5799 - val_acc: 0.8032\n",
      "Epoch 21/50\n",
      "45000/45000 [==============================] - 99s 2ms/sample - loss: 0.6150 - acc: 0.7878 - val_loss: 0.6246 - val_acc: 0.7892\n",
      "Epoch 22/50\n",
      "45000/45000 [==============================] - 100s 2ms/sample - loss: 0.6021 - acc: 0.7924 - val_loss: 0.6058 - val_acc: 0.7970\n",
      "Epoch 23/50\n",
      "45000/45000 [==============================] - 100s 2ms/sample - loss: 0.5953 - acc: 0.7930 - val_loss: 0.5387 - val_acc: 0.8206\n",
      "Epoch 24/50\n",
      "45000/45000 [==============================] - 100s 2ms/sample - loss: 0.5873 - acc: 0.7962 - val_loss: 0.5642 - val_acc: 0.8086\n",
      "Epoch 25/50\n",
      "45000/45000 [==============================] - 100s 2ms/sample - loss: 0.5852 - acc: 0.7985 - val_loss: 0.5922 - val_acc: 0.8034\n",
      "Epoch 26/50\n",
      "16448/45000 [=========>....................] - ETA: 1:01 - loss: 0.5572 - acc: 0.8021"
     ]
    }
   ],
   "source": [
    "adam_history = adam.fit(X_train, Y_train, epochs=50, callbacks=[adam_checkpoint_callback], batch_size=64, validation_split=0.1)"
   ]
  },
  {
   "cell_type": "code",
   "execution_count": 3,
   "metadata": {},
   "outputs": [
    {
     "name": "stdout",
     "output_type": "stream",
     "text": [
      "WARNING:tensorflow:From C:\\Users\\Roozbeh\\Anaconda3\\lib\\site-packages\\tensorflow\\python\\ops\\init_ops.py:97: calling VarianceScaling.__init__ (from tensorflow.python.ops.init_ops) with dtype is deprecated and will be removed in a future version.\n",
      "Instructions for updating:\n",
      "Call initializer instance with the dtype argument instead of passing it to the constructor\n",
      "WARNING:tensorflow:From C:\\Users\\Roozbeh\\Anaconda3\\lib\\site-packages\\tensorflow\\python\\ops\\init_ops.py:97: calling Zeros.__init__ (from tensorflow.python.ops.init_ops) with dtype is deprecated and will be removed in a future version.\n",
      "Instructions for updating:\n",
      "Call initializer instance with the dtype argument instead of passing it to the constructor\n",
      "WARNING:tensorflow:From C:\\Users\\Roozbeh\\Anaconda3\\lib\\site-packages\\tensorflow\\python\\ops\\init_ops.py:97: calling GlorotUniform.__init__ (from tensorflow.python.ops.init_ops) with dtype is deprecated and will be removed in a future version.\n",
      "Instructions for updating:\n",
      "Call initializer instance with the dtype argument instead of passing it to the constructor\n"
     ]
    }
   ],
   "source": [
    "adam = models.load_model('models/adam-model-023-0.82.h5')"
   ]
  },
  {
   "cell_type": "code",
   "execution_count": 14,
   "metadata": {},
   "outputs": [
    {
     "name": "stdout",
     "output_type": "stream",
     "text": [
      "Train on 45000 samples, validate on 5000 samples\n",
      "Epoch 1/50\n",
      "45000/45000 [==============================] - 94s 2ms/sample - loss: 1.8076 - acc: 0.3319 - val_loss: 1.4344 - val_acc: 0.4804\n",
      "Epoch 2/50\n",
      "45000/45000 [==============================] - 94s 2ms/sample - loss: 1.3970 - acc: 0.4920 - val_loss: 1.1919 - val_acc: 0.5682\n",
      "Epoch 3/50\n",
      "45000/45000 [==============================] - 94s 2ms/sample - loss: 1.2221 - acc: 0.5652 - val_loss: 0.9924 - val_acc: 0.6504\n",
      "Epoch 4/50\n",
      "45000/45000 [==============================] - 93s 2ms/sample - loss: 1.0846 - acc: 0.6172 - val_loss: 0.8613 - val_acc: 0.6946\n",
      "Epoch 5/50\n",
      "45000/45000 [==============================] - 93s 2ms/sample - loss: 1.0043 - acc: 0.6475 - val_loss: 0.8051 - val_acc: 0.7188\n",
      "Epoch 6/50\n",
      "45000/45000 [==============================] - 93s 2ms/sample - loss: 0.9319 - acc: 0.6719 - val_loss: 0.8236 - val_acc: 0.7118\n",
      "Epoch 7/50\n",
      "45000/45000 [==============================] - 93s 2ms/sample - loss: 0.8837 - acc: 0.6936 - val_loss: 0.7401 - val_acc: 0.7444\n",
      "Epoch 8/50\n",
      "45000/45000 [==============================] - 93s 2ms/sample - loss: 0.8479 - acc: 0.7065 - val_loss: 0.7457 - val_acc: 0.7452\n",
      "Epoch 9/50\n",
      "45000/45000 [==============================] - 93s 2ms/sample - loss: 0.8049 - acc: 0.7207 - val_loss: 0.7070 - val_acc: 0.7568\n",
      "Epoch 10/50\n",
      "45000/45000 [==============================] - 92s 2ms/sample - loss: 0.7833 - acc: 0.7279 - val_loss: 0.6809 - val_acc: 0.7644\n",
      "Epoch 11/50\n",
      "45000/45000 [==============================] - 89s 2ms/sample - loss: 0.7556 - acc: 0.7365 - val_loss: 0.6304 - val_acc: 0.7810\n",
      "Epoch 12/50\n",
      "45000/45000 [==============================] - 88s 2ms/sample - loss: 0.7272 - acc: 0.7466 - val_loss: 0.6314 - val_acc: 0.7808\n",
      "Epoch 13/50\n",
      "45000/45000 [==============================] - 89s 2ms/sample - loss: 0.7096 - acc: 0.7528 - val_loss: 0.6145 - val_acc: 0.7806\n",
      "Epoch 14/50\n",
      "45000/45000 [==============================] - 89s 2ms/sample - loss: 0.6954 - acc: 0.7597 - val_loss: 0.5960 - val_acc: 0.7954\n",
      "Epoch 15/50\n",
      "45000/45000 [==============================] - 89s 2ms/sample - loss: 0.6818 - acc: 0.7638 - val_loss: 0.6169 - val_acc: 0.7926\n",
      "Epoch 16/50\n",
      "45000/45000 [==============================] - 89s 2ms/sample - loss: 0.6591 - acc: 0.7730 - val_loss: 0.5855 - val_acc: 0.7966\n",
      "Epoch 17/50\n",
      "45000/45000 [==============================] - 89s 2ms/sample - loss: 0.6534 - acc: 0.7751 - val_loss: 0.6100 - val_acc: 0.7932\n",
      "Epoch 18/50\n",
      "45000/45000 [==============================] - 89s 2ms/sample - loss: 0.6353 - acc: 0.7815 - val_loss: 0.5871 - val_acc: 0.8022\n",
      "Epoch 19/50\n",
      "45000/45000 [==============================] - 89s 2ms/sample - loss: 0.6331 - acc: 0.7803 - val_loss: 0.5860 - val_acc: 0.7978\n",
      "Epoch 20/50\n",
      "45000/45000 [==============================] - 89s 2ms/sample - loss: 0.6156 - acc: 0.7862 - val_loss: 0.5785 - val_acc: 0.8040\n",
      "Epoch 21/50\n",
      "45000/45000 [==============================] - 90s 2ms/sample - loss: 0.6154 - acc: 0.7860 - val_loss: 0.5823 - val_acc: 0.8052\n",
      "Epoch 22/50\n",
      "45000/45000 [==============================] - 89s 2ms/sample - loss: 0.6098 - acc: 0.7883 - val_loss: 0.5749 - val_acc: 0.8008\n",
      "Epoch 23/50\n",
      "45000/45000 [==============================] - 88s 2ms/sample - loss: 0.5965 - acc: 0.7935 - val_loss: 0.5697 - val_acc: 0.8084\n",
      "Epoch 24/50\n",
      "45000/45000 [==============================] - 89s 2ms/sample - loss: 0.5869 - acc: 0.7942 - val_loss: 0.5728 - val_acc: 0.8082\n",
      "Epoch 25/50\n",
      "45000/45000 [==============================] - 89s 2ms/sample - loss: 0.5815 - acc: 0.7994 - val_loss: 0.5391 - val_acc: 0.8206\n",
      "Epoch 26/50\n",
      "45000/45000 [==============================] - 89s 2ms/sample - loss: 0.5784 - acc: 0.8006 - val_loss: 0.5701 - val_acc: 0.8128\n",
      "Epoch 27/50\n",
      "45000/45000 [==============================] - 89s 2ms/sample - loss: 0.5656 - acc: 0.8046 - val_loss: 0.5471 - val_acc: 0.8114\n",
      "Epoch 28/50\n",
      "45000/45000 [==============================] - 90s 2ms/sample - loss: 0.5547 - acc: 0.8063 - val_loss: 0.5704 - val_acc: 0.8138\n",
      "Epoch 29/50\n",
      "45000/45000 [==============================] - 95s 2ms/sample - loss: 0.5533 - acc: 0.8058 - val_loss: 0.5671 - val_acc: 0.8134\n",
      "Epoch 30/50\n",
      "45000/45000 [==============================] - 94s 2ms/sample - loss: 0.5452 - acc: 0.8092 - val_loss: 0.5293 - val_acc: 0.8188\n",
      "Epoch 31/50\n",
      "45000/45000 [==============================] - 95s 2ms/sample - loss: 0.5445 - acc: 0.8122 - val_loss: 0.5628 - val_acc: 0.8082\n",
      "Epoch 32/50\n",
      "45000/45000 [==============================] - 95s 2ms/sample - loss: 0.5393 - acc: 0.8137 - val_loss: 0.5419 - val_acc: 0.8194\n",
      "Epoch 33/50\n",
      "45000/45000 [==============================] - 95s 2ms/sample - loss: 0.5269 - acc: 0.8174 - val_loss: 0.5295 - val_acc: 0.8270\n",
      "Epoch 34/50\n",
      "45000/45000 [==============================] - 95s 2ms/sample - loss: 0.5290 - acc: 0.8158 - val_loss: 0.5763 - val_acc: 0.8166\n",
      "Epoch 35/50\n",
      "45000/45000 [==============================] - 98s 2ms/sample - loss: 0.5305 - acc: 0.8164 - val_loss: 0.5350 - val_acc: 0.8270\n",
      "Epoch 36/50\n",
      "45000/45000 [==============================] - 99s 2ms/sample - loss: 0.5204 - acc: 0.8195 - val_loss: 0.5466 - val_acc: 0.8240\n",
      "Epoch 37/50\n",
      "45000/45000 [==============================] - 99s 2ms/sample - loss: 0.5169 - acc: 0.8210 - val_loss: 0.5544 - val_acc: 0.8250\n",
      "Epoch 38/50\n",
      "45000/45000 [==============================] - 99s 2ms/sample - loss: 0.5151 - acc: 0.8217 - val_loss: 0.5284 - val_acc: 0.8264\n",
      "Epoch 39/50\n",
      "45000/45000 [==============================] - 100s 2ms/sample - loss: 0.5118 - acc: 0.8232 - val_loss: 0.5081 - val_acc: 0.8312\n",
      "Epoch 40/50\n",
      "45000/45000 [==============================] - 100s 2ms/sample - loss: 0.5030 - acc: 0.8238 - val_loss: 0.5484 - val_acc: 0.8218\n",
      "Epoch 41/50\n",
      "45000/45000 [==============================] - 100s 2ms/sample - loss: 0.4964 - acc: 0.8275 - val_loss: 0.5308 - val_acc: 0.8304\n",
      "Epoch 42/50\n",
      "45000/45000 [==============================] - 138s 3ms/sample - loss: 0.4942 - acc: 0.8303 - val_loss: 0.5361 - val_acc: 0.8220\n",
      "Epoch 43/50\n",
      "45000/45000 [==============================] - 172s 4ms/sample - loss: 0.4846 - acc: 0.8320 - val_loss: 0.5227 - val_acc: 0.8312\n",
      "Epoch 44/50\n",
      "45000/45000 [==============================] - 175s 4ms/sample - loss: 0.4915 - acc: 0.8290 - val_loss: 0.5285 - val_acc: 0.8238\n",
      "Epoch 45/50\n",
      "45000/45000 [==============================] - 177s 4ms/sample - loss: 0.4960 - acc: 0.8284 - val_loss: 0.5433 - val_acc: 0.8288\n",
      "Epoch 46/50\n",
      "45000/45000 [==============================] - 181s 4ms/sample - loss: 0.4813 - acc: 0.8331 - val_loss: 0.5381 - val_acc: 0.8262\n",
      "Epoch 47/50\n",
      "45000/45000 [==============================] - 183s 4ms/sample - loss: 0.4783 - acc: 0.8335 - val_loss: 0.5421 - val_acc: 0.8276\n",
      "Epoch 48/50\n",
      "45000/45000 [==============================] - 235s 5ms/sample - loss: 0.4838 - acc: 0.8338 - val_loss: 0.5357 - val_acc: 0.8258\n",
      "Epoch 49/50\n",
      "45000/45000 [==============================] - 271s 6ms/sample - loss: 0.4723 - acc: 0.8356 - val_loss: 0.5263 - val_acc: 0.8236\n",
      "Epoch 50/50\n",
      "45000/45000 [==============================] - 274s 6ms/sample - loss: 0.4811 - acc: 0.8310 - val_loss: 0.5133 - val_acc: 0.8314\n"
     ]
    }
   ],
   "source": [
    "adam_history = adam.fit(X_train, Y_train, epochs=50, callbacks=[adam_checkpoint_callback], batch_size=64, validation_split=0.1)"
   ]
  },
  {
   "cell_type": "code",
   "execution_count": 15,
   "metadata": {},
   "outputs": [
    {
     "data": {
      "image/png": "[encoded data removed]",
      "text/plain": [
       "<Figure size 432x288 with 1 Axes>"
      ]
     },
     "metadata": {
      "needs_background": "light"
     },
     "output_type": "display_data"
    }
   ],
   "source": [
    "plt.plot(adam_history.history['loss'])\n",
    "plt.plot(adam_history.history['val_loss'])\n",
    "plt.title('model loss')\n",
    "plt.ylabel('loss')\n",
    "plt.xlabel('epoch')\n",
    "plt.legend(['train', 'test'], loc='upper left')\n",
    "plt.show()"
   ]
  },
  {
   "cell_type": "code",
   "execution_count": 17,
   "metadata": {},
   "outputs": [
    {
     "name": "stdout",
     "output_type": "stream",
     "text": [
      "10000/10000 [==============================] - 6s 569us/sample - loss: 0.5679 - acc: 0.8189\n"
     ]
    },
    {
     "data": {
      "text/plain": [
       "[0.5678636559963226, 0.8189]"
      ]
     },
     "execution_count": 17,
     "metadata": {},
     "output_type": "execute_result"
    }
   ],
   "source": [
    "adam.evaluate(X_test, Y_test)"
   ]
  },
  {
   "cell_type": "code",
   "execution_count": 18,
   "metadata": {},
   "outputs": [
    {
     "name": "stdout",
     "output_type": "stream",
     "text": [
      "Classification report:\n",
      "               precision    recall  f1-score   support\n",
      "\n",
      "           0       0.86      0.81      0.83      1000\n",
      "           1       0.90      0.92      0.91      1000\n",
      "           2       0.77      0.72      0.74      1000\n",
      "           3       0.65      0.69      0.67      1000\n",
      "           4       0.76      0.84      0.80      1000\n",
      "           5       0.75      0.72      0.73      1000\n",
      "           6       0.84      0.86      0.85      1000\n",
      "           7       0.90      0.83      0.86      1000\n",
      "           8       0.87      0.93      0.90      1000\n",
      "           9       0.91      0.88      0.90      1000\n",
      "\n",
      "    accuracy                           0.82     10000\n",
      "   macro avg       0.82      0.82      0.82     10000\n",
      "weighted avg       0.82      0.82      0.82     10000\n",
      "\n"
     ]
    }
   ],
   "source": [
    "Y_pred = adam.predict(X_test)\n",
    "Y_pred_classes = [np.argmax(element) for element in Y_pred]\n",
    "\n",
    "print('Classification report:\\n', classification_report(Y_test, Y_pred_classes))"
   ]
  },
  {
   "cell_type": "code",
   "execution_count": 19,
   "metadata": {},
   "outputs": [],
   "source": [
    "filepath = 'models/adam_75.h5'\n",
    "adam.save(filepath)"
   ]
  }
 ],
 "metadata": {
  "kernelspec": {
   "display_name": "Python 3",
   "language": "python",
   "name": "python3"
  },
  "language_info": {
   "codemirror_mode": {
    "name": "ipython",
    "version": 3
   },
   "file_extension": ".py",
   "mimetype": "text/x-python",
   "name": "python",
   "nbconvert_exporter": "python",
   "pygments_lexer": "ipython3",
   "version": "3.6.12"
  }
 },
 "nbformat": 4,
 "nbformat_minor": 1
}
