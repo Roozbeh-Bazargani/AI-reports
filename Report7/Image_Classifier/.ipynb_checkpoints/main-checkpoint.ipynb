{
 "cells": [
  {
   "cell_type": "markdown",
   "metadata": {
    "collapsed": true
   },
   "source": [
    "# Importing libraries"
   ]
  },
  {
   "cell_type": "code",
   "execution_count": 2,
   "metadata": {},
   "outputs": [],
   "source": [
    "import tensorflow as tf\n",
    "from tensorflow.keras import datasets, layers, models, optimizers\n",
    "import matplotlib.pyplot as plt\n",
    "import numpy as np\n",
    "from sklearn.metrics import confusion_matrix, classification_report"
   ]
  },
  {
   "cell_type": "markdown",
   "metadata": {},
   "source": [
    "# Dataset"
   ]
  },
  {
   "cell_type": "code",
   "execution_count": 3,
   "metadata": {},
   "outputs": [],
   "source": [
    "(X_train, Y_train), (X_test, Y_test) = datasets.cifar10.load_data()"
   ]
  },
  {
   "cell_type": "code",
   "execution_count": 4,
   "metadata": {},
   "outputs": [
    {
     "data": {
      "text/plain": [
       "(32, 32, 3)"
      ]
     },
     "execution_count": 4,
     "metadata": {},
     "output_type": "execute_result"
    }
   ],
   "source": [
    "X_test.shape[1:]"
   ]
  },
  {
   "cell_type": "code",
   "execution_count": 5,
   "metadata": {},
   "outputs": [],
   "source": [
    "classes = ['airplane', 'automobile', 'bird', 'cat', 'deer', 'dog', 'frog', 'horse', 'ship', 'truck']"
   ]
  },
  {
   "cell_type": "code",
   "execution_count": 6,
   "metadata": {},
   "outputs": [],
   "source": [
    "def plot_sample(X, Y, index):\n",
    "    plt.figure(figsize = (15,2))\n",
    "    plt.imshow(X[index])\n",
    "    plt.xlabel(classes[Y[index][0]])"
   ]
  },
  {
   "cell_type": "code",
   "execution_count": 7,
   "metadata": {},
   "outputs": [
    {
     "data": {
      "image/png": "[encoded data removed]",
      "text/plain": [
       "<Figure size 1080x144 with 1 Axes>"
      ]
     },
     "metadata": {
      "needs_background": "light"
     },
     "output_type": "display_data"
    }
   ],
   "source": [
    "plot_sample(X_train, Y_train, 0)"
   ]
  },
  {
   "cell_type": "code",
   "execution_count": 8,
   "metadata": {},
   "outputs": [
    {
     "data": {
      "image/png": "[encoded data removed]",
      "text/plain": [
       "<Figure size 1080x144 with 1 Axes>"
      ]
     },
     "metadata": {
      "needs_background": "light"
     },
     "output_type": "display_data"
    }
   ],
   "source": [
    "plot_sample(X_train, Y_train, 2)"
   ]
  },
  {
   "cell_type": "markdown",
   "metadata": {},
   "source": [
    "# Preprocessing"
   ]
  },
  {
   "cell_type": "code",
   "execution_count": 9,
   "metadata": {},
   "outputs": [],
   "source": [
    "X_train = X_train / 255\n",
    "X_test = X_test / 255"
   ]
  },
  {
   "cell_type": "markdown",
   "metadata": {},
   "source": [
    "# Multi-Layered Perceptron Model"
   ]
  },
  {
   "cell_type": "code",
   "execution_count": 10,
   "metadata": {},
   "outputs": [
    {
     "name": "stdout",
     "output_type": "stream",
     "text": [
      "WARNING:tensorflow:From C:\\Users\\Roozbeh\\Anaconda3\\lib\\site-packages\\tensorflow\\python\\ops\\init_ops.py:1251: calling VarianceScaling.__init__ (from tensorflow.python.ops.init_ops) with dtype is deprecated and will be removed in a future version.\n",
      "Instructions for updating:\n",
      "Call initializer instance with the dtype argument instead of passing it to the constructor\n",
      "WARNING:tensorflow:From C:\\Users\\Roozbeh\\Anaconda3\\lib\\site-packages\\tensorflow\\python\\ops\\math_grad.py:1250: add_dispatch_support.<locals>.wrapper (from tensorflow.python.ops.array_ops) is deprecated and will be removed in a future version.\n",
      "Instructions for updating:\n",
      "Use tf.where in 2.0, which has the same broadcast rule as np.where\n",
      "Epoch 1/5\n",
      "50000/50000 [==============================] - 57s 1ms/sample - loss: 1.8622 - acc: 0.3319\n",
      "Epoch 2/5\n",
      "50000/50000 [==============================] - 64s 1ms/sample - loss: 1.6601 - acc: 0.4126\n",
      "Epoch 3/5\n",
      "50000/50000 [==============================] - 61s 1ms/sample - loss: 1.5720 - acc: 0.4446\n",
      "Epoch 4/5\n",
      "50000/50000 [==============================] - 62s 1ms/sample - loss: 1.5121 - acc: 0.4657\n",
      "Epoch 5/5\n",
      "50000/50000 [==============================] - 65s 1ms/sample - loss: 1.4622 - acc: 0.4847\n"
     ]
    },
    {
     "data": {
      "text/plain": [
       "<tensorflow.python.keras.callbacks.History at 0x15a48bcf4a8>"
      ]
     },
     "execution_count": 10,
     "metadata": {},
     "output_type": "execute_result"
    }
   ],
   "source": [
    "mlp = models.Sequential([\n",
    "    layers.Flatten(input_shape=(X_train.shape[1:])),\n",
    "    layers.Dense(3000, activation='relu'),\n",
    "    layers.Dense(1000, activation='relu'),\n",
    "    layers.Dense(len(classes), activation='sigmoid'),\n",
    "])\n",
    "\n",
    "mlp.compile(optimizer='SGD',\n",
    "            loss='sparse_categorical_crossentropy',\n",
    "            metrics=['accuracy'])\n",
    "\n",
    "mlp.fit(X_train, Y_train, epochs=5)"
   ]
  },
  {
   "cell_type": "code",
   "execution_count": 11,
   "metadata": {},
   "outputs": [
    {
     "name": "stdout",
     "output_type": "stream",
     "text": [
      "Model: \"sequential\"\n",
      "_________________________________________________________________\n",
      "Layer (type)                 Output Shape              Param #   \n",
      "=================================================================\n",
      "flatten (Flatten)            (None, 3072)              0         \n",
      "_________________________________________________________________\n",
      "dense (Dense)                (None, 3000)              9219000   \n",
      "_________________________________________________________________\n",
      "dense_1 (Dense)              (None, 1000)              3001000   \n",
      "_________________________________________________________________\n",
      "dense_2 (Dense)              (None, 10)                10010     \n",
      "=================================================================\n",
      "Total params: 12,230,010\n",
      "Trainable params: 12,230,010\n",
      "Non-trainable params: 0\n",
      "_________________________________________________________________\n"
     ]
    }
   ],
   "source": [
    "mlp.summary()"
   ]
  },
  {
   "cell_type": "code",
   "execution_count": 12,
   "metadata": {},
   "outputs": [
    {
     "name": "stdout",
     "output_type": "stream",
     "text": [
      "10000/10000 [==============================] - 3s 290us/sample - loss: 1.5119 - acc: 0.4647\n"
     ]
    },
    {
     "data": {
      "text/plain": [
       "[1.511865912437439, 0.4647]"
      ]
     },
     "execution_count": 12,
     "metadata": {},
     "output_type": "execute_result"
    }
   ],
   "source": [
    "mlp.evaluate(X_test, Y_test)"
   ]
  },
  {
   "cell_type": "code",
   "execution_count": 13,
   "metadata": {},
   "outputs": [
    {
     "name": "stdout",
     "output_type": "stream",
     "text": [
      "Classification report:\n",
      "               precision    recall  f1-score   support\n",
      "\n",
      "           0       0.45      0.70      0.55      1000\n",
      "           1       0.59      0.63      0.61      1000\n",
      "           2       0.36      0.29      0.33      1000\n",
      "           3       0.38      0.26      0.31      1000\n",
      "           4       0.52      0.19      0.28      1000\n",
      "           5       0.40      0.36      0.38      1000\n",
      "           6       0.35      0.82      0.49      1000\n",
      "           7       0.54      0.52      0.53      1000\n",
      "           8       0.69      0.50      0.58      1000\n",
      "           9       0.70      0.36      0.48      1000\n",
      "\n",
      "    accuracy                           0.46     10000\n",
      "   macro avg       0.50      0.46      0.45     10000\n",
      "weighted avg       0.50      0.46      0.45     10000\n",
      "\n"
     ]
    }
   ],
   "source": [
    "Y_pred = mlp.predict(X_test)\n",
    "Y_pred_classes = [np.argmax(element) for element in Y_pred]\n",
    "\n",
    "print('Classification report:\\n', classification_report(Y_test, Y_pred_classes))"
   ]
  },
  {
   "cell_type": "markdown",
   "metadata": {},
   "source": [
    "# Convolutional Neural Network Model"
   ]
  },
  {
   "cell_type": "code",
   "execution_count": 14,
   "metadata": {},
   "outputs": [
    {
     "name": "stdout",
     "output_type": "stream",
     "text": [
      "Model: \"sequential_1\"\n",
      "_________________________________________________________________\n",
      "Layer (type)                 Output Shape              Param #   \n",
      "=================================================================\n",
      "conv2d (Conv2D)              (None, 30, 30, 32)        896       \n",
      "_________________________________________________________________\n",
      "max_pooling2d (MaxPooling2D) (None, 15, 15, 32)        0         \n",
      "_________________________________________________________________\n",
      "conv2d_1 (Conv2D)            (None, 13, 13, 64)        18496     \n",
      "_________________________________________________________________\n",
      "max_pooling2d_1 (MaxPooling2 (None, 6, 6, 64)          0         \n",
      "_________________________________________________________________\n",
      "flatten_1 (Flatten)          (None, 2304)              0         \n",
      "_________________________________________________________________\n",
      "dense_3 (Dense)              (None, 64)                147520    \n",
      "_________________________________________________________________\n",
      "dense_4 (Dense)              (None, 10)                650       \n",
      "=================================================================\n",
      "Total params: 167,562\n",
      "Trainable params: 167,562\n",
      "Non-trainable params: 0\n",
      "_________________________________________________________________\n"
     ]
    }
   ],
   "source": [
    "cnn = models.Sequential([\n",
    "    # cnn\n",
    "    layers.Conv2D(filters=32, kernel_size=(3,3), activation='relu', input_shape=(X_train.shape[1:])),\n",
    "    layers.MaxPooling2D((2,2)),\n",
    "    layers.Conv2D(filters=64, kernel_size=(3,3), activation='relu'),\n",
    "    layers.MaxPooling2D((2,2)),\n",
    "    \n",
    "    # dense\n",
    "    layers.Flatten(),\n",
    "    layers.Dense(64, activation='relu'),\n",
    "    layers.Dense(len(classes), activation='sigmoid'),\n",
    "])\n",
    "\n",
    "cnn.compile(optimizer='adam',\n",
    "            loss='sparse_categorical_crossentropy',\n",
    "            metrics=['accuracy'])\n",
    "\n",
    "cnn.summary()"
   ]
  },
  {
   "cell_type": "code",
   "execution_count": 12,
   "metadata": {},
   "outputs": [
    {
     "name": "stdout",
     "output_type": "stream",
     "text": [
      "Train on 45000 samples, validate on 5000 samples\n",
      "Epoch 1/10\n",
      "45000/45000 [==============================] - 30s 671us/sample - loss: 1.5783 - acc: 0.4251 - val_loss: 1.2406 - val_acc: 0.5608\n",
      "Epoch 2/10\n",
      "45000/45000 [==============================] - 31s 680us/sample - loss: 1.1965 - acc: 0.5794 - val_loss: 1.1042 - val_acc: 0.6146\n",
      "Epoch 3/10\n",
      "45000/45000 [==============================] - 30s 669us/sample - loss: 1.0553 - acc: 0.6332 - val_loss: 1.0406 - val_acc: 0.6490\n",
      "Epoch 4/10\n",
      "45000/45000 [==============================] - 31s 683us/sample - loss: 0.9730 - acc: 0.6606 - val_loss: 0.9901 - val_acc: 0.6594\n",
      "Epoch 5/10\n",
      "45000/45000 [==============================] - 31s 680us/sample - loss: 0.9086 - acc: 0.6879 - val_loss: 0.9558 - val_acc: 0.6754\n",
      "Epoch 6/10\n",
      "45000/45000 [==============================] - 31s 698us/sample - loss: 0.8572 - acc: 0.7017 - val_loss: 0.9175 - val_acc: 0.6858\n",
      "Epoch 7/10\n",
      "45000/45000 [==============================] - 58s 1ms/sample - loss: 0.8078 - acc: 0.7197 - val_loss: 0.9960 - val_acc: 0.6574\n",
      "Epoch 8/10\n",
      "45000/45000 [==============================] - 60s 1ms/sample - loss: 0.7681 - acc: 0.7330 - val_loss: 0.8915 - val_acc: 0.6926\n",
      "Epoch 9/10\n",
      "45000/45000 [==============================] - 58s 1ms/sample - loss: 0.7299 - acc: 0.7462 - val_loss: 0.8799 - val_acc: 0.6986\n",
      "Epoch 10/10\n",
      "45000/45000 [==============================] - 58s 1ms/sample - loss: 0.6977 - acc: 0.7566 - val_loss: 0.9069 - val_acc: 0.6900\n"
     ]
    }
   ],
   "source": [
    "cnn_history = cnn.fit(X_train, Y_train, epochs=10, validation_split=0.1)"
   ]
  },
  {
   "cell_type": "code",
   "execution_count": 13,
   "metadata": {},
   "outputs": [
    {
     "data": {
      "image/png": "[encoded data removed]",
      "text/plain": [
       "<Figure size 432x288 with 1 Axes>"
      ]
     },
     "metadata": {
      "needs_background": "light"
     },
     "output_type": "display_data"
    }
   ],
   "source": [
    "plt.plot(cnn_history.history['loss'])\n",
    "plt.plot(cnn_history.history['val_loss'])\n",
    "plt.title('model loss')\n",
    "plt.ylabel('loss')\n",
    "plt.xlabel('epoch')\n",
    "plt.legend(['train', 'test'], loc='upper left')\n",
    "plt.show()"
   ]
  },
  {
   "cell_type": "code",
   "execution_count": 14,
   "metadata": {},
   "outputs": [
    {
     "name": "stdout",
     "output_type": "stream",
     "text": [
      "10000/10000 [==============================] - 4s 402us/sample - loss: 0.9434 - acc: 0.6842\n"
     ]
    },
    {
     "data": {
      "text/plain": [
       "[0.9434128533363342, 0.6842]"
      ]
     },
     "execution_count": 14,
     "metadata": {},
     "output_type": "execute_result"
    }
   ],
   "source": [
    "cnn.evaluate(X_test, Y_test)"
   ]
  },
  {
   "cell_type": "code",
   "execution_count": 15,
   "metadata": {},
   "outputs": [
    {
     "name": "stdout",
     "output_type": "stream",
     "text": [
      "Classification report:\n",
      "               precision    recall  f1-score   support\n",
      "\n",
      "           0       0.72      0.74      0.73      1000\n",
      "           1       0.78      0.85      0.82      1000\n",
      "           2       0.53      0.63      0.57      1000\n",
      "           3       0.50      0.50      0.50      1000\n",
      "           4       0.57      0.72      0.63      1000\n",
      "           5       0.64      0.50      0.56      1000\n",
      "           6       0.79      0.73      0.76      1000\n",
      "           7       0.82      0.66      0.73      1000\n",
      "           8       0.86      0.71      0.78      1000\n",
      "           9       0.75      0.81      0.78      1000\n",
      "\n",
      "    accuracy                           0.68     10000\n",
      "   macro avg       0.69      0.68      0.69     10000\n",
      "weighted avg       0.69      0.68      0.69     10000\n",
      "\n"
     ]
    }
   ],
   "source": [
    "Y_pred = cnn.predict(X_test)\n",
    "Y_pred_classes = [np.argmax(element) for element in Y_pred]\n",
    "\n",
    "print('Classification report:\\n', classification_report(Y_test, Y_pred_classes))"
   ]
  },
  {
   "cell_type": "markdown",
   "metadata": {},
   "source": [
    "# Improved CNN"
   ]
  },
  {
   "cell_type": "code",
   "execution_count": 15,
   "metadata": {},
   "outputs": [
    {
     "name": "stdout",
     "output_type": "stream",
     "text": [
      "Model: \"sequential_2\"\n",
      "_________________________________________________________________\n",
      "Layer (type)                 Output Shape              Param #   \n",
      "=================================================================\n",
      "conv2d_2 (Conv2D)            (None, 32, 32, 32)        896       \n",
      "_________________________________________________________________\n",
      "conv2d_3 (Conv2D)            (None, 32, 32, 32)        9248      \n",
      "_________________________________________________________________\n",
      "max_pooling2d_2 (MaxPooling2 (None, 16, 16, 32)        0         \n",
      "_________________________________________________________________\n",
      "dropout (Dropout)            (None, 16, 16, 32)        0         \n",
      "_________________________________________________________________\n",
      "conv2d_4 (Conv2D)            (None, 16, 16, 64)        18496     \n",
      "_________________________________________________________________\n",
      "max_pooling2d_3 (MaxPooling2 (None, 8, 8, 64)          0         \n",
      "_________________________________________________________________\n",
      "dropout_1 (Dropout)          (None, 8, 8, 64)          0         \n",
      "_________________________________________________________________\n",
      "conv2d_5 (Conv2D)            (None, 8, 8, 128)         73856     \n",
      "_________________________________________________________________\n",
      "conv2d_6 (Conv2D)            (None, 8, 8, 128)         147584    \n",
      "_________________________________________________________________\n",
      "max_pooling2d_4 (MaxPooling2 (None, 4, 4, 128)         0         \n",
      "_________________________________________________________________\n",
      "dropout_2 (Dropout)          (None, 4, 4, 128)         0         \n",
      "_________________________________________________________________\n",
      "flatten_2 (Flatten)          (None, 2048)              0         \n",
      "_________________________________________________________________\n",
      "dense_5 (Dense)              (None, 128)               262272    \n",
      "_________________________________________________________________\n",
      "dropout_3 (Dropout)          (None, 128)               0         \n",
      "_________________________________________________________________\n",
      "dense_6 (Dense)              (None, 10)                1290      \n",
      "=================================================================\n",
      "Total params: 513,642\n",
      "Trainable params: 513,642\n",
      "Non-trainable params: 0\n",
      "_________________________________________________________________\n"
     ]
    }
   ],
   "source": [
    "icnn = models.Sequential([\n",
    "    # cnn\n",
    "    layers.Conv2D(filters=32, kernel_size=(3,3), activation='relu', kernel_initializer='he_uniform', \n",
    "                  padding='same', input_shape=(X_train.shape[1:])),\n",
    "    layers.Conv2D(filters=32, kernel_size=(3,3), activation='relu', kernel_initializer='he_uniform', padding='same'),\n",
    "    layers.MaxPooling2D((2,2)),\n",
    "    layers.Dropout(0.2),\n",
    "    layers.Conv2D(filters=64, kernel_size=(3,3), activation='relu', kernel_initializer='he_uniform', padding='same'),\n",
    "    layers.MaxPooling2D((2,2)),\n",
    "    layers.Dropout(0.3),\n",
    "    layers.Conv2D(filters=128, kernel_size=(3,3), activation='relu', kernel_initializer='he_uniform', padding='same'),\n",
    "    layers.Conv2D(filters=128, kernel_size=(3,3), activation='relu', kernel_initializer='he_uniform', padding='same'),\n",
    "    layers.MaxPooling2D((2,2)),\n",
    "    layers.Dropout(0.4),\n",
    "    \n",
    "    # dense\n",
    "    layers.Flatten(),\n",
    "    layers.Dense(128, activation='relu', kernel_initializer='he_uniform'),\n",
    "    layers.Dropout(0.5),\n",
    "    layers.Dense(len(classes), activation='softmax'),\n",
    "])\n",
    "\n",
    "opt = optimizers.SGD(lr=0.001, momentum=0.9)\n",
    "icnn.compile(optimizer=opt,\n",
    "            loss='sparse_categorical_crossentropy',\n",
    "            metrics=['accuracy'])\n",
    "\n",
    "icnn.summary()"
   ]
  },
  {
   "cell_type": "code",
   "execution_count": 22,
   "metadata": {},
   "outputs": [
    {
     "name": "stdout",
     "output_type": "stream",
     "text": [
      "Train on 45000 samples, validate on 5000 samples\n",
      "Epoch 1/50\n",
      "45000/45000 [==============================] - 180s 4ms/sample - loss: 2.2580 - acc: 0.1474 - val_loss: 2.1163 - val_acc: 0.2666\n",
      "Epoch 2/50\n",
      "45000/45000 [==============================] - 177s 4ms/sample - loss: 1.9902 - acc: 0.2575 - val_loss: 1.8387 - val_acc: 0.3274\n",
      "Epoch 3/50\n",
      "45000/45000 [==============================] - 174s 4ms/sample - loss: 1.8261 - acc: 0.3181 - val_loss: 1.6916 - val_acc: 0.3822\n",
      "Epoch 4/50\n",
      "45000/45000 [==============================] - 94s 2ms/sample - loss: 1.7257 - acc: 0.3550 - val_loss: 1.6314 - val_acc: 0.4014\n",
      "Epoch 5/50\n",
      "45000/45000 [==============================] - 94s 2ms/sample - loss: 1.6508 - acc: 0.3878 - val_loss: 1.5149 - val_acc: 0.4518\n",
      "Epoch 6/50\n",
      "45000/45000 [==============================] - 93s 2ms/sample - loss: 1.5809 - acc: 0.4170 - val_loss: 1.4460 - val_acc: 0.4708\n",
      "Epoch 7/50\n",
      "45000/45000 [==============================] - 93s 2ms/sample - loss: 1.5330 - acc: 0.4376 - val_loss: 1.3800 - val_acc: 0.4926\n",
      "Epoch 8/50\n",
      "45000/45000 [==============================] - 94s 2ms/sample - loss: 1.4910 - acc: 0.4541 - val_loss: 1.3765 - val_acc: 0.5040\n",
      "Epoch 9/50\n",
      "45000/45000 [==============================] - 94s 2ms/sample - loss: 1.4511 - acc: 0.4700 - val_loss: 1.3347 - val_acc: 0.5170\n",
      "Epoch 10/50\n",
      "45000/45000 [==============================] - 94s 2ms/sample - loss: 1.4140 - acc: 0.4857 - val_loss: 1.2731 - val_acc: 0.5396\n",
      "Epoch 11/50\n",
      "45000/45000 [==============================] - 94s 2ms/sample - loss: 1.3852 - acc: 0.4963 - val_loss: 1.2440 - val_acc: 0.5476\n",
      "Epoch 12/50\n",
      "45000/45000 [==============================] - 94s 2ms/sample - loss: 1.3566 - acc: 0.5101 - val_loss: 1.2092 - val_acc: 0.5650\n",
      "Epoch 13/50\n",
      "45000/45000 [==============================] - 94s 2ms/sample - loss: 1.3280 - acc: 0.5235 - val_loss: 1.1799 - val_acc: 0.5774\n",
      "Epoch 14/50\n",
      "45000/45000 [==============================] - 94s 2ms/sample - loss: 1.2992 - acc: 0.5340 - val_loss: 1.1558 - val_acc: 0.5872\n",
      "Epoch 15/50\n",
      "45000/45000 [==============================] - 94s 2ms/sample - loss: 1.2697 - acc: 0.5461 - val_loss: 1.0998 - val_acc: 0.6098\n",
      "Epoch 16/50\n",
      "45000/45000 [==============================] - 94s 2ms/sample - loss: 1.2468 - acc: 0.5554 - val_loss: 1.1476 - val_acc: 0.5928\n",
      "Epoch 17/50\n",
      "45000/45000 [==============================] - 94s 2ms/sample - loss: 1.2188 - acc: 0.5650 - val_loss: 1.0909 - val_acc: 0.6072\n",
      "Epoch 18/50\n",
      "45000/45000 [==============================] - 95s 2ms/sample - loss: 1.1936 - acc: 0.5754 - val_loss: 1.0625 - val_acc: 0.6278\n",
      "Epoch 19/50\n",
      "45000/45000 [==============================] - 94s 2ms/sample - loss: 1.1753 - acc: 0.5807 - val_loss: 0.9998 - val_acc: 0.6414\n",
      "Epoch 20/50\n",
      "45000/45000 [==============================] - 95s 2ms/sample - loss: 1.1473 - acc: 0.5910 - val_loss: 0.9874 - val_acc: 0.6480\n",
      "Epoch 21/50\n",
      "45000/45000 [==============================] - 95s 2ms/sample - loss: 1.1292 - acc: 0.5973 - val_loss: 0.9994 - val_acc: 0.6482\n",
      "Epoch 22/50\n",
      "45000/45000 [==============================] - 95s 2ms/sample - loss: 1.1091 - acc: 0.6070 - val_loss: 0.9519 - val_acc: 0.6624\n",
      "Epoch 23/50\n",
      "45000/45000 [==============================] - 95s 2ms/sample - loss: 1.0972 - acc: 0.6108 - val_loss: 0.9252 - val_acc: 0.6736\n",
      "Epoch 24/50\n",
      "45000/45000 [==============================] - 95s 2ms/sample - loss: 1.0801 - acc: 0.6162 - val_loss: 0.9043 - val_acc: 0.6814\n",
      "Epoch 25/50\n",
      "45000/45000 [==============================] - 96s 2ms/sample - loss: 1.0613 - acc: 0.6224 - val_loss: 0.9076 - val_acc: 0.6822\n",
      "Epoch 26/50\n",
      "45000/45000 [==============================] - 96s 2ms/sample - loss: 1.0488 - acc: 0.6274 - val_loss: 0.9355 - val_acc: 0.6740\n",
      "Epoch 27/50\n",
      "45000/45000 [==============================] - 96s 2ms/sample - loss: 1.0309 - acc: 0.6362 - val_loss: 0.8526 - val_acc: 0.7030\n",
      "Epoch 28/50\n",
      "45000/45000 [==============================] - 96s 2ms/sample - loss: 1.0133 - acc: 0.6434 - val_loss: 0.8607 - val_acc: 0.7042\n",
      "Epoch 29/50\n",
      "45000/45000 [==============================] - 96s 2ms/sample - loss: 1.0059 - acc: 0.6440 - val_loss: 0.8365 - val_acc: 0.7092\n",
      "Epoch 30/50\n",
      "45000/45000 [==============================] - 96s 2ms/sample - loss: 0.9958 - acc: 0.6467 - val_loss: 0.8689 - val_acc: 0.7064\n",
      "Epoch 31/50\n",
      "45000/45000 [==============================] - 95s 2ms/sample - loss: 0.9836 - acc: 0.6519 - val_loss: 0.8437 - val_acc: 0.7074\n",
      "Epoch 32/50\n",
      "45000/45000 [==============================] - 95s 2ms/sample - loss: 0.9685 - acc: 0.6560 - val_loss: 0.8380 - val_acc: 0.7058\n",
      "Epoch 33/50\n",
      "45000/45000 [==============================] - 96s 2ms/sample - loss: 0.9588 - acc: 0.6609 - val_loss: 0.8301 - val_acc: 0.7160\n",
      "Epoch 34/50\n",
      "45000/45000 [==============================] - 96s 2ms/sample - loss: 0.9500 - acc: 0.6655 - val_loss: 0.8006 - val_acc: 0.7258\n",
      "Epoch 35/50\n",
      "45000/45000 [==============================] - 91s 2ms/sample - loss: 0.9407 - acc: 0.6678 - val_loss: 0.7846 - val_acc: 0.7318\n",
      "Epoch 36/50\n",
      "45000/45000 [==============================] - 90s 2ms/sample - loss: 0.9294 - acc: 0.6721 - val_loss: 0.7873 - val_acc: 0.7308\n",
      "Epoch 37/50\n",
      "45000/45000 [==============================] - 90s 2ms/sample - loss: 0.9189 - acc: 0.6758 - val_loss: 0.7720 - val_acc: 0.7386\n",
      "Epoch 38/50\n",
      "45000/45000 [==============================] - 90s 2ms/sample - loss: 0.9143 - acc: 0.6811 - val_loss: 0.8079 - val_acc: 0.7178\n",
      "Epoch 39/50\n",
      "45000/45000 [==============================] - 90s 2ms/sample - loss: 0.8990 - acc: 0.6845 - val_loss: 0.7581 - val_acc: 0.7414\n",
      "Epoch 40/50\n",
      "45000/45000 [==============================] - 90s 2ms/sample - loss: 0.8868 - acc: 0.6870 - val_loss: 0.7453 - val_acc: 0.7446\n",
      "Epoch 41/50\n",
      "45000/45000 [==============================] - 90s 2ms/sample - loss: 0.8772 - acc: 0.6927 - val_loss: 0.7720 - val_acc: 0.7276\n",
      "Epoch 42/50\n",
      "45000/45000 [==============================] - 90s 2ms/sample - loss: 0.8729 - acc: 0.6912 - val_loss: 0.7597 - val_acc: 0.7398\n",
      "Epoch 43/50\n",
      "45000/45000 [==============================] - 90s 2ms/sample - loss: 0.8660 - acc: 0.6966 - val_loss: 0.7100 - val_acc: 0.7572\n",
      "Epoch 44/50\n",
      "45000/45000 [==============================] - 90s 2ms/sample - loss: 0.8542 - acc: 0.7003 - val_loss: 0.7105 - val_acc: 0.7560\n",
      "Epoch 45/50\n",
      "45000/45000 [==============================] - 90s 2ms/sample - loss: 0.8500 - acc: 0.7004 - val_loss: 0.7070 - val_acc: 0.7574\n",
      "Epoch 46/50\n",
      "45000/45000 [==============================] - 90s 2ms/sample - loss: 0.8403 - acc: 0.7043 - val_loss: 0.6903 - val_acc: 0.7604\n",
      "Epoch 47/50\n",
      "45000/45000 [==============================] - 90s 2ms/sample - loss: 0.8334 - acc: 0.7060 - val_loss: 0.7250 - val_acc: 0.7466\n",
      "Epoch 48/50\n",
      "45000/45000 [==============================] - 90s 2ms/sample - loss: 0.8248 - acc: 0.7083 - val_loss: 0.7002 - val_acc: 0.7560\n",
      "Epoch 49/50\n",
      "45000/45000 [==============================] - 96s 2ms/sample - loss: 0.8174 - acc: 0.7133 - val_loss: 0.6738 - val_acc: 0.7654\n",
      "Epoch 50/50\n",
      "45000/45000 [==============================] - 96s 2ms/sample - loss: 0.8104 - acc: 0.7171 - val_loss: 0.6970 - val_acc: 0.7586\n"
     ]
    }
   ],
   "source": [
    "icnn_history = icnn.fit(X_train, Y_train, epochs=50, batch_size=64, validation_split=0.1)"
   ]
  },
  {
   "cell_type": "code",
   "execution_count": 24,
   "metadata": {},
   "outputs": [],
   "source": [
    "filepath = 'model/icnn_50.h5'\n",
    "icnn.save(filepath)"
   ]
  },
  {
   "cell_type": "code",
   "execution_count": 26,
   "metadata": {},
   "outputs": [
    {
     "name": "stdout",
     "output_type": "stream",
     "text": [
      "WARNING:tensorflow:From C:\\Users\\Roozbeh\\Anaconda3\\lib\\site-packages\\tensorflow\\python\\ops\\init_ops.py:97: calling Zeros.__init__ (from tensorflow.python.ops.init_ops) with dtype is deprecated and will be removed in a future version.\n",
      "Instructions for updating:\n",
      "Call initializer instance with the dtype argument instead of passing it to the constructor\n",
      "WARNING:tensorflow:From C:\\Users\\Roozbeh\\Anaconda3\\lib\\site-packages\\tensorflow\\python\\ops\\init_ops.py:97: calling GlorotUniform.__init__ (from tensorflow.python.ops.init_ops) with dtype is deprecated and will be removed in a future version.\n",
      "Instructions for updating:\n",
      "Call initializer instance with the dtype argument instead of passing it to the constructor\n"
     ]
    }
   ],
   "source": [
    "model = models.load_model(filepath)"
   ]
  },
  {
   "cell_type": "code",
   "execution_count": 29,
   "metadata": {},
   "outputs": [
    {
     "data": {
      "image/png": "[encoded data removed]",
      "text/plain": [
       "<Figure size 432x288 with 1 Axes>"
      ]
     },
     "metadata": {
      "needs_background": "light"
     },
     "output_type": "display_data"
    }
   ],
   "source": [
    "plt.plot(icnn_history.history['loss'])\n",
    "plt.plot(icnn_history.history['val_loss'])\n",
    "plt.title('model loss')\n",
    "plt.ylabel('loss')\n",
    "plt.xlabel('epoch')\n",
    "plt.legend(['train', 'test'], loc='upper left')\n",
    "plt.show()"
   ]
  },
  {
   "cell_type": "code",
   "execution_count": null,
   "metadata": {},
   "outputs": [
    {
     "name": "stdout",
     "output_type": "stream",
     "text": [
      "Train on 45000 samples, validate on 5000 samples\n",
      "Epoch 1/50\n",
      "45000/45000 [==============================] - 100s 2ms/sample - loss: 0.8036 - acc: 0.7174 - val_loss: 0.6618 - val_acc: 0.7732\n",
      "Epoch 2/50\n",
      "45000/45000 [==============================] - 94s 2ms/sample - loss: 0.7971 - acc: 0.7195 - val_loss: 0.6771 - val_acc: 0.7668\n",
      "Epoch 3/50\n",
      "45000/45000 [==============================] - 94s 2ms/sample - loss: 0.7831 - acc: 0.7241 - val_loss: 0.6734 - val_acc: 0.7664\n",
      "Epoch 4/50\n",
      "45000/45000 [==============================] - 94s 2ms/sample - loss: 0.7811 - acc: 0.7257 - val_loss: 0.6870 - val_acc: 0.7664\n",
      "Epoch 5/50\n",
      "45000/45000 [==============================] - 95s 2ms/sample - loss: 0.7742 - acc: 0.7272 - val_loss: 0.6493 - val_acc: 0.7756\n",
      "Epoch 6/50\n",
      "45000/45000 [==============================] - 94s 2ms/sample - loss: 0.7679 - acc: 0.7303 - val_loss: 0.6937 - val_acc: 0.7602\n",
      "Epoch 7/50\n",
      "45000/45000 [==============================] - 94s 2ms/sample - loss: 0.7666 - acc: 0.7302 - val_loss: 0.6553 - val_acc: 0.7722\n",
      "Epoch 8/50\n",
      "45000/45000 [==============================] - 95s 2ms/sample - loss: 0.7581 - acc: 0.7355 - val_loss: 0.6591 - val_acc: 0.7730\n",
      "Epoch 9/50\n",
      "45000/45000 [==============================] - 94s 2ms/sample - loss: 0.7546 - acc: 0.7339 - val_loss: 0.6280 - val_acc: 0.7816\n",
      "Epoch 10/50\n",
      "45000/45000 [==============================] - 94s 2ms/sample - loss: 0.7450 - acc: 0.7379 - val_loss: 0.6170 - val_acc: 0.7880\n",
      "Epoch 11/50\n",
      "45000/45000 [==============================] - 94s 2ms/sample - loss: 0.7373 - acc: 0.7416 - val_loss: 0.6813 - val_acc: 0.7646\n",
      "Epoch 12/50\n",
      "45000/45000 [==============================] - 92s 2ms/sample - loss: 0.7388 - acc: 0.7430 - val_loss: 0.6195 - val_acc: 0.7884\n",
      "Epoch 13/50\n",
      "45000/45000 [==============================] - 91s 2ms/sample - loss: 0.7282 - acc: 0.7447 - val_loss: 0.6124 - val_acc: 0.7876\n",
      "Epoch 14/50\n",
      "45000/45000 [==============================] - 91s 2ms/sample - loss: 0.7224 - acc: 0.7458 - val_loss: 0.6205 - val_acc: 0.7830\n",
      "Epoch 15/50\n",
      "45000/45000 [==============================] - 91s 2ms/sample - loss: 0.7246 - acc: 0.7478 - val_loss: 0.6306 - val_acc: 0.7840\n",
      "Epoch 16/50\n",
      "45000/45000 [==============================] - 91s 2ms/sample - loss: 0.7189 - acc: 0.7491 - val_loss: 0.6095 - val_acc: 0.7886\n",
      "Epoch 17/50\n",
      "45000/45000 [==============================] - 91s 2ms/sample - loss: 0.7136 - acc: 0.7539 - val_loss: 0.6303 - val_acc: 0.7858\n",
      "Epoch 18/50\n",
      "45000/45000 [==============================] - 91s 2ms/sample - loss: 0.7041 - acc: 0.7528 - val_loss: 0.6311 - val_acc: 0.7830\n",
      "Epoch 19/50\n",
      "45000/45000 [==============================] - 91s 2ms/sample - loss: 0.7041 - acc: 0.7533 - val_loss: 0.6027 - val_acc: 0.7894\n",
      "Epoch 20/50\n",
      "45000/45000 [==============================] - 91s 2ms/sample - loss: 0.6934 - acc: 0.7575 - val_loss: 0.5991 - val_acc: 0.7896\n",
      "Epoch 21/50\n",
      "45000/45000 [==============================] - 91s 2ms/sample - loss: 0.6931 - acc: 0.7583 - val_loss: 0.6102 - val_acc: 0.7862\n",
      "Epoch 22/50\n",
      "45000/45000 [==============================] - 91s 2ms/sample - loss: 0.6879 - acc: 0.7602 - val_loss: 0.6314 - val_acc: 0.7836\n",
      "Epoch 23/50\n",
      "45000/45000 [==============================] - 91s 2ms/sample - loss: 0.6799 - acc: 0.7615 - val_loss: 0.6019 - val_acc: 0.7878\n",
      "Epoch 24/50\n",
      "45000/45000 [==============================] - 91s 2ms/sample - loss: 0.6778 - acc: 0.7636 - val_loss: 0.5753 - val_acc: 0.7984\n",
      "Epoch 25/50\n",
      "45000/45000 [==============================] - 91s 2ms/sample - loss: 0.6782 - acc: 0.7610 - val_loss: 0.5845 - val_acc: 0.8014\n",
      "Epoch 26/50\n",
      "45000/45000 [==============================] - 91s 2ms/sample - loss: 0.6635 - acc: 0.7687 - val_loss: 0.5929 - val_acc: 0.7942\n",
      "Epoch 27/50\n",
      "45000/45000 [==============================] - 91s 2ms/sample - loss: 0.6691 - acc: 0.7657 - val_loss: 0.6268 - val_acc: 0.7830\n",
      "Epoch 28/50\n",
      "45000/45000 [==============================] - 93s 2ms/sample - loss: 0.6601 - acc: 0.7685 - val_loss: 0.5780 - val_acc: 0.7980\n",
      "Epoch 29/50\n",
      "45000/45000 [==============================] - 96s 2ms/sample - loss: 0.6611 - acc: 0.7662 - val_loss: 0.5799 - val_acc: 0.8018\n",
      "Epoch 30/50\n",
      "45000/45000 [==============================] - 95s 2ms/sample - loss: 0.6538 - acc: 0.7708 - val_loss: 0.5602 - val_acc: 0.8044\n",
      "Epoch 31/50\n",
      "45000/45000 [==============================] - 95s 2ms/sample - loss: 0.6542 - acc: 0.7714 - val_loss: 0.5716 - val_acc: 0.8026\n",
      "Epoch 32/50\n",
      "45000/45000 [==============================] - 106s 2ms/sample - loss: 0.6452 - acc: 0.7746 - val_loss: 0.5510 - val_acc: 0.8028\n",
      "Epoch 33/50\n",
      "45000/45000 [==============================] - 101s 2ms/sample - loss: 0.6450 - acc: 0.7758 - val_loss: 0.5749 - val_acc: 0.7974\n",
      "Epoch 34/50\n",
      "45000/45000 [==============================] - 103s 2ms/sample - loss: 0.6376 - acc: 0.7762 - val_loss: 0.6323 - val_acc: 0.7822\n",
      "Epoch 35/50\n",
      "45000/45000 [==============================] - 107s 2ms/sample - loss: 0.6367 - acc: 0.7769 - val_loss: 0.5523 - val_acc: 0.8092\n",
      "Epoch 36/50\n",
      "22144/45000 [=============>................] - ETA: 53s - loss: 0.6234 - acc: 0.7833"
     ]
    }
   ],
   "source": [
    "model.fit(X_train, Y_train, epochs=50, batch_size=64, validation_split=0.1)"
   ]
  },
  {
   "cell_type": "code",
   "execution_count": 31,
   "metadata": {},
   "outputs": [
    {
     "name": "stdout",
     "output_type": "stream",
     "text": [
      "Train on 45000 samples, validate on 5000 samples\n",
      "45000/45000 [==============================] - 185s 4ms/sample - loss: 0.5988 - acc: 0.7907 - val_loss: 0.5716 - val_acc: 0.8054\n"
     ]
    },
    {
     "data": {
      "text/plain": [
       "<tensorflow.python.keras.callbacks.History at 0x191c9c5d9e8>"
      ]
     },
     "execution_count": 31,
     "metadata": {},
     "output_type": "execute_result"
    }
   ],
   "source": [
    "icnn_history = model.fit(X_train, Y_train, epochs=1, batch_size=64, validation_split=0.1)"
   ]
  },
  {
   "cell_type": "code",
   "execution_count": 32,
   "metadata": {},
   "outputs": [],
   "source": [
    "filepath = 'model/icnn_86.h5'\n",
    "model.save(filepath)"
   ]
  },
  {
   "cell_type": "code",
   "execution_count": 33,
   "metadata": {},
   "outputs": [
    {
     "data": {
      "image/png": "[encoded data removed]",
      "text/plain": [
       "<Figure size 432x288 with 1 Axes>"
      ]
     },
     "metadata": {
      "needs_background": "light"
     },
     "output_type": "display_data"
    }
   ],
   "source": [
    "plt.plot(icnn_history.history['loss'])\n",
    "plt.plot(icnn_history.history['val_loss'])\n",
    "plt.title('model loss')\n",
    "plt.ylabel('loss')\n",
    "plt.xlabel('epoch')\n",
    "plt.legend(['train', 'test'], loc='upper left')\n",
    "plt.show()"
   ]
  },
  {
   "cell_type": "code",
   "execution_count": 34,
   "metadata": {},
   "outputs": [
    {
     "name": "stdout",
     "output_type": "stream",
     "text": [
      "10000/10000 [==============================] - 11s 1ms/sample - loss: 0.6142 - acc: 0.78841s -\n"
     ]
    },
    {
     "data": {
      "text/plain": [
       "[0.6141970194339752, 0.7884]"
      ]
     },
     "execution_count": 34,
     "metadata": {},
     "output_type": "execute_result"
    }
   ],
   "source": [
    "model.evaluate(X_test, Y_test)"
   ]
  },
  {
   "cell_type": "code",
   "execution_count": 36,
   "metadata": {},
   "outputs": [
    {
     "name": "stdout",
     "output_type": "stream",
     "text": [
      "Classification report:\n",
      "               precision    recall  f1-score   support\n",
      "\n",
      "           0       0.87      0.76      0.81      1000\n",
      "           1       0.92      0.89      0.90      1000\n",
      "           2       0.75      0.66      0.70      1000\n",
      "           3       0.67      0.55      0.60      1000\n",
      "           4       0.67      0.85      0.75      1000\n",
      "           5       0.73      0.67      0.70      1000\n",
      "           6       0.68      0.94      0.79      1000\n",
      "           7       0.90      0.77      0.83      1000\n",
      "           8       0.87      0.91      0.89      1000\n",
      "           9       0.89      0.89      0.89      1000\n",
      "\n",
      "    accuracy                           0.79     10000\n",
      "   macro avg       0.80      0.79      0.79     10000\n",
      "weighted avg       0.80      0.79      0.79     10000\n",
      "\n"
     ]
    }
   ],
   "source": [
    "Y_pred = model.predict(X_test)\n",
    "Y_pred_classes = [np.argmax(element) for element in Y_pred]\n",
    "\n",
    "print('Classification report:\\n', classification_report(Y_test, Y_pred_classes))"
   ]
  },
  {
   "cell_type": "code",
   "execution_count": 10,
   "metadata": {},
   "outputs": [
    {
     "name": "stdout",
     "output_type": "stream",
     "text": [
      "WARNING:tensorflow:From C:\\Users\\Roozbeh\\Anaconda3\\lib\\site-packages\\tensorflow\\python\\ops\\init_ops.py:97: calling VarianceScaling.__init__ (from tensorflow.python.ops.init_ops) with dtype is deprecated and will be removed in a future version.\n",
      "Instructions for updating:\n",
      "Call initializer instance with the dtype argument instead of passing it to the constructor\n",
      "WARNING:tensorflow:From C:\\Users\\Roozbeh\\Anaconda3\\lib\\site-packages\\tensorflow\\python\\ops\\init_ops.py:97: calling Zeros.__init__ (from tensorflow.python.ops.init_ops) with dtype is deprecated and will be removed in a future version.\n",
      "Instructions for updating:\n",
      "Call initializer instance with the dtype argument instead of passing it to the constructor\n",
      "WARNING:tensorflow:From C:\\Users\\Roozbeh\\Anaconda3\\lib\\site-packages\\tensorflow\\python\\ops\\init_ops.py:97: calling GlorotUniform.__init__ (from tensorflow.python.ops.init_ops) with dtype is deprecated and will be removed in a future version.\n",
      "Instructions for updating:\n",
      "Call initializer instance with the dtype argument instead of passing it to the constructor\n"
     ]
    }
   ],
   "source": [
    "filepath = 'model/icnn_86.h5'\n",
    "model = models.load_model(filepath)"
   ]
  },
  {
   "cell_type": "code",
   "execution_count": 14,
   "metadata": {},
   "outputs": [
    {
     "name": "stdout",
     "output_type": "stream",
     "text": [
      "Train on 45000 samples, validate on 5000 samples\n",
      "Epoch 1/10\n",
      "45000/45000 [==============================] - 174s 4ms/sample - loss: 0.5778 - acc: 0.7981 - val_loss: 0.5273 - val_acc: 0.8194\n",
      "Epoch 2/10\n",
      "45000/45000 [==============================] - 177s 4ms/sample - loss: 0.5788 - acc: 0.7977 - val_loss: 0.5281 - val_acc: 0.8160\n",
      "Epoch 3/10\n",
      "45000/45000 [==============================] - 139s 3ms/sample - loss: 0.5742 - acc: 0.7969 - val_loss: 0.5154 - val_acc: 0.8216\n",
      "Epoch 4/10\n",
      "45000/45000 [==============================] - 94s 2ms/sample - loss: 0.5709 - acc: 0.8009 - val_loss: 0.5351 - val_acc: 0.8144\n",
      "Epoch 5/10\n",
      "45000/45000 [==============================] - 93s 2ms/sample - loss: 0.5665 - acc: 0.8026 - val_loss: 0.5422 - val_acc: 0.8144\n",
      "Epoch 6/10\n",
      "45000/45000 [==============================] - 94s 2ms/sample - loss: 0.5652 - acc: 0.8008 - val_loss: 0.5214 - val_acc: 0.8204\n",
      "Epoch 7/10\n",
      "45000/45000 [==============================] - 95s 2ms/sample - loss: 0.5602 - acc: 0.8046 - val_loss: 0.5063 - val_acc: 0.8204\n",
      "Epoch 8/10\n",
      "45000/45000 [==============================] - 94s 2ms/sample - loss: 0.5605 - acc: 0.8035 - val_loss: 0.5148 - val_acc: 0.8222\n",
      "Epoch 9/10\n",
      "45000/45000 [==============================] - 94s 2ms/sample - loss: 0.5559 - acc: 0.8033 - val_loss: 0.5603 - val_acc: 0.8096\n",
      "Epoch 10/10\n",
      "45000/45000 [==============================] - 94s 2ms/sample - loss: 0.5497 - acc: 0.8067 - val_loss: 0.5367 - val_acc: 0.8180\n"
     ]
    }
   ],
   "source": [
    "icnn_history = model.fit(X_train, Y_train, epochs=10, batch_size=64, validation_split=0.1)"
   ]
  },
  {
   "cell_type": "code",
   "execution_count": 15,
   "metadata": {},
   "outputs": [
    {
     "data": {
      "image/png": "[encoded data removed]",
      "text/plain": [
       "<Figure size 432x288 with 1 Axes>"
      ]
     },
     "metadata": {
      "needs_background": "light"
     },
     "output_type": "display_data"
    }
   ],
   "source": [
    "plt.plot(icnn_history.history['loss'])\n",
    "plt.plot(icnn_history.history['val_loss'])\n",
    "plt.title('model loss')\n",
    "plt.ylabel('loss')\n",
    "plt.xlabel('epoch')\n",
    "plt.legend(['train', 'test'], loc='upper left')\n",
    "plt.show()"
   ]
  },
  {
   "cell_type": "code",
   "execution_count": 16,
   "metadata": {},
   "outputs": [
    {
     "name": "stdout",
     "output_type": "stream",
     "text": [
      "10000/10000 [==============================] - 5s 527us/sample - loss: 0.5750 - acc: 0.8022\n"
     ]
    },
    {
     "data": {
      "text/plain": [
       "[0.5749736934185028, 0.8022]"
      ]
     },
     "execution_count": 16,
     "metadata": {},
     "output_type": "execute_result"
    }
   ],
   "source": [
    "model.evaluate(X_test, Y_test)"
   ]
  },
  {
   "cell_type": "code",
   "execution_count": 17,
   "metadata": {},
   "outputs": [
    {
     "name": "stdout",
     "output_type": "stream",
     "text": [
      "Classification report:\n",
      "               precision    recall  f1-score   support\n",
      "\n",
      "           0       0.83      0.84      0.83      1000\n",
      "           1       0.91      0.91      0.91      1000\n",
      "           2       0.82      0.62      0.71      1000\n",
      "           3       0.64      0.61      0.63      1000\n",
      "           4       0.68      0.87      0.77      1000\n",
      "           5       0.77      0.66      0.71      1000\n",
      "           6       0.72      0.93      0.81      1000\n",
      "           7       0.89      0.82      0.85      1000\n",
      "           8       0.93      0.88      0.90      1000\n",
      "           9       0.90      0.88      0.89      1000\n",
      "\n",
      "    accuracy                           0.80     10000\n",
      "   macro avg       0.81      0.80      0.80     10000\n",
      "weighted avg       0.81      0.80      0.80     10000\n",
      "\n"
     ]
    }
   ],
   "source": [
    "Y_pred = model.predict(X_test)\n",
    "Y_pred_classes = [np.argmax(element) for element in Y_pred]\n",
    "\n",
    "print('Classification report:\\n', classification_report(Y_test, Y_pred_classes))"
   ]
  },
  {
   "cell_type": "code",
   "execution_count": 19,
   "metadata": {},
   "outputs": [],
   "source": [
    "filepath = 'model/icnn_100.h5'\n",
    "model.save(filepath)"
   ]
  }
 ],
 "metadata": {
  "kernelspec": {
   "display_name": "Python 3",
   "language": "python",
   "name": "python3"
  },
  "language_info": {
   "codemirror_mode": {
    "name": "ipython",
    "version": 3
   },
   "file_extension": ".py",
   "mimetype": "text/x-python",
   "name": "python",
   "nbconvert_exporter": "python",
   "pygments_lexer": "ipython3",
   "version": "3.6.12"
  }
 },
 "nbformat": 4,
 "nbformat_minor": 1
}
