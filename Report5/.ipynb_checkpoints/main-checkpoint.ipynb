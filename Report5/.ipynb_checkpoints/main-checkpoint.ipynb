{
 "cells": [
  {
   "cell_type": "markdown",
   "metadata": {
    "collapsed": true
   },
   "source": [
    "# N Queens"
   ]
  },
  {
   "cell_type": "markdown",
   "metadata": {},
   "source": [
    "# Importing libraries"
   ]
  },
  {
   "cell_type": "code",
   "execution_count": 1,
   "metadata": {},
   "outputs": [],
   "source": [
    "import numpy as np\n",
    "import random\n",
    "import time\n",
    "import matplotlib.pyplot as plt"
   ]
  },
  {
   "cell_type": "markdown",
   "metadata": {},
   "source": [
    "# Functions for checking Answer"
   ]
  },
  {
   "cell_type": "code",
   "execution_count": 2,
   "metadata": {},
   "outputs": [],
   "source": [
    "def column(A, y):\n",
    "    if np.sum(A.T[y]):\n",
    "        return True\n",
    "    return False\n",
    "\n",
    "def row(A,x):\n",
    "    if np.sum(A[x]):\n",
    "        return True\n",
    "    return False\n",
    "\n",
    "\n",
    "def diag(A, x, y):\n",
    "    n = A.shape[0]\n",
    "    result = False\n",
    "    i = x\n",
    "    j = y\n",
    "    while i < n and j < n:\n",
    "        if A[i][j] == 1:\n",
    "            result = True\n",
    "            break\n",
    "        i += 1\n",
    "        j += 1\n",
    "    if result:\n",
    "        return True\n",
    "    i = x - 1\n",
    "    j = y - 1\n",
    "    while i > -1 and j > -1 :\n",
    "        if A[i][j] == 1:\n",
    "            result = True\n",
    "            break\n",
    "        i -= 1\n",
    "        j -= 1\n",
    "    if result:\n",
    "        return True\n",
    "    i = x + 1\n",
    "    j = y - 1\n",
    "    while  i < n and j > -1 :\n",
    "        if A[i][j] == 1:\n",
    "            result = True\n",
    "            break\n",
    "        i += 1\n",
    "        j -= 1\n",
    "    if result:\n",
    "        return True\n",
    "    i = x - 1\n",
    "    j = y + 1\n",
    "    while  i > -1 and j < n :\n",
    "        if A[i][j] == 1:\n",
    "            result = True\n",
    "            break\n",
    "        i -= 1\n",
    "        j += 1\n",
    "    return result\n",
    "\n",
    "\n",
    "def collision(A, x, y):\n",
    "    return column(A, y) or row(A, x) or diag(A, x, y)\n",
    "\n",
    "def IsAnswer(A):\n",
    "    n = A.shape[0]\n",
    "    if np.sum(A) != n:\n",
    "        return False\n",
    "    for i in range(n):\n",
    "        for j in range(n):\n",
    "            if A[i][j] == 1:\n",
    "                A[i][j] = 0\n",
    "                if collision(A, i, j):\n",
    "                    A[i][j] = 1\n",
    "                    return False\n",
    "                A[i][j] = 1\n",
    "    return True"
   ]
  },
  {
   "cell_type": "code",
   "execution_count": 3,
   "metadata": {},
   "outputs": [
    {
     "name": "stdout",
     "output_type": "stream",
     "text": [
      "[[0 1 0 0]\n",
      " [0 0 0 1]\n",
      " [1 0 0 0]\n",
      " [0 0 1 0]]\n",
      "True\n"
     ]
    }
   ],
   "source": [
    "A = np.array([[0, 1, 0, 0], [0, 0, 0, 1], [1, 0, 0, 0], [0, 0, 1, 0]])\n",
    "print(A)\n",
    "print(IsAnswer(A))"
   ]
  },
  {
   "cell_type": "markdown",
   "metadata": {},
   "source": [
    "# Backtracking"
   ]
  },
  {
   "cell_type": "code",
   "execution_count": 4,
   "metadata": {},
   "outputs": [],
   "source": [
    "def backtracking_Queens(N):\n",
    "    A = np.zeros((N,N))\n",
    "    col = [False]*N\n",
    "    diag1 = [False] * (2*N - 1)\n",
    "    diag2 = [False] * (2*N - 1)\n",
    "    stack = []\n",
    "    backtracking_search(A, N, 0, col, diag1, diag2, stack)\n",
    "    while len(stack) > 0:\n",
    "        x, y = stack.pop()\n",
    "        A[x][y] = 1\n",
    "    return A\n",
    "\n",
    "def backtracking_search(A, N, y, col, diag1, diag2, stack):\n",
    "    if y == N:\n",
    "        return stack\n",
    "    for x in range(N):\n",
    "        if col[x] or diag1[x+y] or diag2[x-y+N-1]:\n",
    "            continue\n",
    "        stack.append([x,y])\n",
    "        col[x] = diag1[x + y] = diag2[x - y + N - 1] = True\n",
    "        result = backtracking_search(A, N, y + 1, col, diag1, diag2, stack)\n",
    "        if result != None:\n",
    "            if len(result) == N:\n",
    "                return result\n",
    "        col[x] = diag1[x + y] = diag2[x - y + N - 1] = False\n",
    "        stack.pop()"
   ]
  },
  {
   "cell_type": "code",
   "execution_count": 5,
   "metadata": {},
   "outputs": [
    {
     "name": "stdout",
     "output_type": "stream",
     "text": [
      "[[1. 0. 0. 0. 0. 0. 0. 0.]\n",
      " [0. 0. 0. 0. 0. 0. 1. 0.]\n",
      " [0. 0. 0. 0. 1. 0. 0. 0.]\n",
      " [0. 0. 0. 0. 0. 0. 0. 1.]\n",
      " [0. 1. 0. 0. 0. 0. 0. 0.]\n",
      " [0. 0. 0. 1. 0. 0. 0. 0.]\n",
      " [0. 0. 0. 0. 0. 1. 0. 0.]\n",
      " [0. 0. 1. 0. 0. 0. 0. 0.]]\n",
      "True\n"
     ]
    }
   ],
   "source": [
    "board = backtracking_Queens(8)\n",
    "print(board)\n",
    "print(IsAnswer(board))"
   ]
  },
  {
   "cell_type": "markdown",
   "metadata": {},
   "source": [
    "# Number of permutations"
   ]
  },
  {
   "cell_type": "code",
   "execution_count": 6,
   "metadata": {},
   "outputs": [],
   "source": [
    "def per_backtracking_Queens(N):\n",
    "    cnt = 0\n",
    "    col = [False]*N\n",
    "    diag1 = [False] * (2*N - 1)\n",
    "    diag2 = [False] * (2*N - 1)\n",
    "    return per_backtracking_search(N, 0, col, diag1, diag2, cnt)\n",
    "\n",
    "def per_backtracking_search(N, y, col, diag1, diag2, cnt):\n",
    "    if y == N:\n",
    "        cnt += 1\n",
    "        return cnt\n",
    "    for x in range(N):\n",
    "        if col[x] or diag1[x+y] or diag2[x-y+N-1]:\n",
    "            continue\n",
    "        col[x] = diag1[x + y] = diag2[x - y + N - 1] = True\n",
    "        cnt = per_backtracking_search(N, y + 1, col, diag1, diag2, cnt)\n",
    "        col[x] = diag1[x + y] = diag2[x - y + N - 1] = False\n",
    "    return cnt"
   ]
  },
  {
   "cell_type": "code",
   "execution_count": 7,
   "metadata": {},
   "outputs": [
    {
     "name": "stdout",
     "output_type": "stream",
     "text": [
      "10\n"
     ]
    }
   ],
   "source": [
    "print(per_backtracking_Queens(5))"
   ]
  },
  {
   "cell_type": "markdown",
   "metadata": {},
   "source": [
    "# Iterating over N"
   ]
  },
  {
   "cell_type": "code",
   "execution_count": 11,
   "metadata": {},
   "outputs": [
    {
     "data": {
      "image/png": "[encoded data removed]",
      "text/plain": [
       "<Figure size 432x288 with 1 Axes>"
      ]
     },
     "metadata": {
      "needs_background": "light"
     },
     "output_type": "display_data"
    }
   ],
   "source": [
    "N = range(4,15)\n",
    "cnt = []\n",
    "for n in N:\n",
    "    cnt.append(per_backtracking_Queens(n))\n",
    "\n",
    "plt.plot(N, cnt, 'r', label='Permutation of n-Queens')\n",
    "\n",
    "plt.xlabel('N')\n",
    "plt.ylabel('Number of permutations')\n",
    "\n",
    "plt.title(\"n-Queens' problem\")\n",
    "\n",
    "plt.legend()\n",
    "\n",
    "plt.show()"
   ]
  },
  {
   "cell_type": "markdown",
   "metadata": {},
   "source": [
    "# MRV backtracking"
   ]
  },
  {
   "cell_type": "code",
   "execution_count": 9,
   "metadata": {},
   "outputs": [],
   "source": [
    "def board_update(H, n, x, y):\n",
    "    H[x] = 1 # row\n",
    "    # ----- column --------\n",
    "    for i in range(n):\n",
    "        H[i][y] = 1\n",
    "    \n",
    "    # ----- diagonal ------\n",
    "    \n",
    "    i = x\n",
    "    j = y\n",
    "    while i < n and j < n:\n",
    "        H[i][j] = 1\n",
    "        i += 1\n",
    "        j += 1\n",
    "        \n",
    "    i = x - 1\n",
    "    j = y - 1\n",
    "    while i > -1 and j > -1 :\n",
    "        H[i][j] = 1\n",
    "        i -= 1\n",
    "        j -= 1\n",
    "        \n",
    "    i = x + 1\n",
    "    j = y - 1\n",
    "    while  i < n and j > -1 :\n",
    "        H[i][j] = 1\n",
    "        i += 1\n",
    "        j -= 1\n",
    "        \n",
    "    i = x - 1\n",
    "    j = y + 1\n",
    "    while  i > -1 and j < n :\n",
    "        H[i][j] = 1\n",
    "        i -= 1\n",
    "        j += 1\n",
    "    \n",
    "    return H\n",
    "\n",
    "def Heuristic(H, n, x, y):\n",
    "#     print(H[x], H.T[y])\n",
    "    h = 1\n",
    "    \n",
    "    # ----- diagonal ------\n",
    "    i = x\n",
    "    j = y\n",
    "    while i < n and j < n:\n",
    "        h += H[i][j]\n",
    "        i += 1\n",
    "        j += 1\n",
    "        \n",
    "    i = x - 1\n",
    "    j = y - 1\n",
    "    while i > -1 and j > -1 :\n",
    "        h += H[i][j]\n",
    "        i -= 1\n",
    "        j -= 1\n",
    "        \n",
    "    i = x + 1\n",
    "    j = y - 1\n",
    "    while  i < n and j > -1 :\n",
    "        h += H[i][j]\n",
    "        i += 1\n",
    "        j -= 1\n",
    "        \n",
    "    i = x - 1\n",
    "    j = y + 1\n",
    "    while  i > -1 and j < n :\n",
    "        h += H[i][j]\n",
    "        i -= 1\n",
    "        j += 1\n",
    "    \n",
    "    return h\n",
    "    \n",
    "\n",
    "def mrv_backtracking(N):\n",
    "    A = np.zeros((N,N))\n",
    "    col = [False]*N\n",
    "    diag1 = [False] * (2*N - 1)\n",
    "    diag2 = [False] * (2*N - 1)\n",
    "    stack = []\n",
    "    H = np.zeros((N,N))\n",
    "    mrv_backtracking_search(A, N, 0, col, diag1, diag2, stack, H)\n",
    "    while len(stack) > 0:\n",
    "        x, y = stack.pop()\n",
    "        A[x][y] = 1\n",
    "    return A\n",
    "\n",
    "def mrv_backtracking_search(A, N, y, col, diag1, diag2, stack, H):\n",
    "    if y == N:\n",
    "        return stack\n",
    "    order = A.T[y]\n",
    "    for i in range(N):\n",
    "        order[i] = Heuristic(H, N, i, y)\n",
    "    order = np.argsort(order)\n",
    "    for x in order:\n",
    "        if col[x] or diag1[x+y] or diag2[x-y+N-1]:\n",
    "            continue\n",
    "        stack.append([x,y])\n",
    "        H_temp = H\n",
    "        H_temp = Heuristic(H_temp, N, x, y)\n",
    "        col[x] = diag1[x + y] = diag2[x - y + N - 1] = True\n",
    "        result = mrv_backtracking_search(A, N, y + 1, col, diag1, diag2, stack, H_temp)\n",
    "        if result != None:\n",
    "            if len(result) == N:\n",
    "                return result\n",
    "        col[x] = diag1[x + y] = diag2[x - y + N - 1] = False\n",
    "        stack.pop()\n"
   ]
  },
  {
   "cell_type": "code",
   "execution_count": 10,
   "metadata": {},
   "outputs": [],
   "source": [
    "board = mrv_backtracking(8)\n",
    "# print(board)\n",
    "# print(IsAnswer(board))"
   ]
  }
 ],
 "metadata": {
  "kernelspec": {
   "display_name": "Python 3",
   "language": "python",
   "name": "python3"
  },
  "language_info": {
   "codemirror_mode": {
    "name": "ipython",
    "version": 3
   },
   "file_extension": ".py",
   "mimetype": "text/x-python",
   "name": "python",
   "nbconvert_exporter": "python",
   "pygments_lexer": "ipython3",
   "version": "3.6.4"
  }
 },
 "nbformat": 4,
 "nbformat_minor": 1
}
